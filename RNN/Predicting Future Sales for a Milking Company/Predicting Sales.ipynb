{
 "cells": [
  {
   "cell_type": "markdown",
   "metadata": {},
   "source": [
    "# Time Series Exercise - \n",
    "\n",
    "### Follow along with the instructions in bold. Watch the solutions video if you get stuck!"
   ]
  },
  {
   "cell_type": "markdown",
   "metadata": {},
   "source": [
    "## The Data\n",
    "\n",
    "** Source: https://datamarket.com/data/set/22ox/monthly-milk-production-pounds-per-cow-jan-62-dec-75#!ds=22ox&display=line **\n",
    "\n",
    "**Monthly milk production: pounds per cow. Jan 62 - Dec 75**"
   ]
  },
  {
   "cell_type": "markdown",
   "metadata": {},
   "source": [
    "** Import numpy pandas and matplotlib **"
   ]
  },
  {
   "cell_type": "code",
   "execution_count": 1,
   "metadata": {},
   "outputs": [],
   "source": [
    "import numpy as np\n",
    "import pandas as pd\n",
    "import matplotlib.pyplot as plt\n",
    "%matplotlib inline"
   ]
  },
  {
   "cell_type": "markdown",
   "metadata": {},
   "source": [
    "** Use pandas to read the csv of the monthly-milk-production.csv file and set index_col='Month' **"
   ]
  },
  {
   "cell_type": "code",
   "execution_count": 2,
   "metadata": {},
   "outputs": [],
   "source": [
    "data = pd.read_csv('monthly-milk-production.csv', index_col='Month')"
   ]
  },
  {
   "cell_type": "markdown",
   "metadata": {},
   "source": [
    "** Check out the head of the dataframe**"
   ]
  },
  {
   "cell_type": "code",
   "execution_count": 3,
   "metadata": {},
   "outputs": [
    {
     "data": {
      "text/html": [
       "<div>\n",
       "<style>\n",
       "    .dataframe thead tr:only-child th {\n",
       "        text-align: right;\n",
       "    }\n",
       "\n",
       "    .dataframe thead th {\n",
       "        text-align: left;\n",
       "    }\n",
       "\n",
       "    .dataframe tbody tr th {\n",
       "        vertical-align: top;\n",
       "    }\n",
       "</style>\n",
       "<table border=\"1\" class=\"dataframe\">\n",
       "  <thead>\n",
       "    <tr style=\"text-align: right;\">\n",
       "      <th></th>\n",
       "      <th>Milk Production</th>\n",
       "    </tr>\n",
       "    <tr>\n",
       "      <th>Month</th>\n",
       "      <th></th>\n",
       "    </tr>\n",
       "  </thead>\n",
       "  <tbody>\n",
       "    <tr>\n",
       "      <th>1962-01-01 01:00:00</th>\n",
       "      <td>589.0</td>\n",
       "    </tr>\n",
       "    <tr>\n",
       "      <th>1962-02-01 01:00:00</th>\n",
       "      <td>561.0</td>\n",
       "    </tr>\n",
       "    <tr>\n",
       "      <th>1962-03-01 01:00:00</th>\n",
       "      <td>640.0</td>\n",
       "    </tr>\n",
       "    <tr>\n",
       "      <th>1962-04-01 01:00:00</th>\n",
       "      <td>656.0</td>\n",
       "    </tr>\n",
       "    <tr>\n",
       "      <th>1962-05-01 01:00:00</th>\n",
       "      <td>727.0</td>\n",
       "    </tr>\n",
       "  </tbody>\n",
       "</table>\n",
       "</div>"
      ],
      "text/plain": [
       "                     Milk Production\n",
       "Month                               \n",
       "1962-01-01 01:00:00            589.0\n",
       "1962-02-01 01:00:00            561.0\n",
       "1962-03-01 01:00:00            640.0\n",
       "1962-04-01 01:00:00            656.0\n",
       "1962-05-01 01:00:00            727.0"
      ]
     },
     "execution_count": 3,
     "metadata": {},
     "output_type": "execute_result"
    }
   ],
   "source": [
    "data.head()"
   ]
  },
  {
   "cell_type": "markdown",
   "metadata": {},
   "source": [
    "** Make the index a time series by using: **\n",
    "\n",
    "    milk.index = pd.to_datetime(milk.index)"
   ]
  },
  {
   "cell_type": "code",
   "execution_count": 4,
   "metadata": {},
   "outputs": [],
   "source": [
    "data.index = pd.to_datetime(data.index)"
   ]
  },
  {
   "cell_type": "code",
   "execution_count": 5,
   "metadata": {},
   "outputs": [
    {
     "data": {
      "text/plain": [
       "DatetimeIndex(['1962-01-01 01:00:00', '1962-02-01 01:00:00',\n",
       "               '1962-03-01 01:00:00', '1962-04-01 01:00:00',\n",
       "               '1962-05-01 01:00:00', '1962-06-01 01:00:00',\n",
       "               '1962-07-01 01:00:00', '1962-08-01 01:00:00',\n",
       "               '1962-09-01 01:00:00', '1962-10-01 01:00:00',\n",
       "               ...\n",
       "               '1975-03-01 01:00:00', '1975-04-01 01:00:00',\n",
       "               '1975-05-01 01:00:00', '1975-06-01 01:00:00',\n",
       "               '1975-07-01 01:00:00', '1975-08-01 01:00:00',\n",
       "               '1975-09-01 01:00:00', '1975-10-01 01:00:00',\n",
       "               '1975-11-01 01:00:00', '1975-12-01 01:00:00'],\n",
       "              dtype='datetime64[ns]', name='Month', length=168, freq=None)"
      ]
     },
     "execution_count": 5,
     "metadata": {},
     "output_type": "execute_result"
    }
   ],
   "source": [
    "data.index"
   ]
  },
  {
   "cell_type": "markdown",
   "metadata": {},
   "source": [
    "** Plot out the time series data. **"
   ]
  },
  {
   "cell_type": "code",
   "execution_count": 6,
   "metadata": {},
   "outputs": [
    {
     "data": {
      "text/plain": [
       "<matplotlib.legend.Legend at 0x217739b6780>"
      ]
     },
     "execution_count": 6,
     "metadata": {},
     "output_type": "execute_result"
    },
    {
     "data": {
      "image/png": "[encoded data removed]",
      "text/plain": [
       "<matplotlib.figure.Figure at 0x2177366f9b0>"
      ]
     },
     "metadata": {},
     "output_type": "display_data"
    }
   ],
   "source": [
    "plt.plot(data.index, data['Milk Production'], label=\"Milk Production\")\n",
    "plt.xlabel('Month')\n",
    "plt.legend()"
   ]
  },
  {
   "cell_type": "markdown",
   "metadata": {},
   "source": [
    "___"
   ]
  },
  {
   "cell_type": "markdown",
   "metadata": {},
   "source": [
    "### Train Test Split\n",
    "\n",
    "** Let's attempt to predict a year's worth of data. (12 months or 12 steps into the future) **\n",
    "\n",
    "** Create a test train split using indexing (hint: use .head() or tail() or .iloc[]). We don't want a random train test split, we want to specify that the test set is the last 12 months of data is the test set, with everything before it is the training. **"
   ]
  },
  {
   "cell_type": "code",
   "execution_count": 7,
   "metadata": {},
   "outputs": [
    {
     "name": "stdout",
     "output_type": "stream",
     "text": [
      "<class 'pandas.core.frame.DataFrame'>\n",
      "DatetimeIndex: 168 entries, 1962-01-01 01:00:00 to 1975-12-01 01:00:00\n",
      "Data columns (total 1 columns):\n",
      "Milk Production    168 non-null float64\n",
      "dtypes: float64(1)\n",
      "memory usage: 2.6 KB\n"
     ]
    }
   ],
   "source": [
    "data.info()"
   ]
  },
  {
   "cell_type": "code",
   "execution_count": 8,
   "metadata": {},
   "outputs": [],
   "source": [
    "train_set = data.head(168-24)"
   ]
  },
  {
   "cell_type": "code",
   "execution_count": 9,
   "metadata": {},
   "outputs": [],
   "source": [
    "test_set = data.tail(24)"
   ]
  },
  {
   "cell_type": "markdown",
   "metadata": {},
   "source": [
    "### Scale the Data\n",
    "\n",
    "** Use sklearn.preprocessing to scale the data using the MinMaxScaler. Remember to only fit_transform on the training data, then transform the test data. You shouldn't fit on the test data as well, otherwise you are assuming you would know about future behavior!**"
   ]
  },
  {
   "cell_type": "code",
   "execution_count": 10,
   "metadata": {},
   "outputs": [],
   "source": [
    "from sklearn.preprocessing import MinMaxScaler"
   ]
  },
  {
   "cell_type": "code",
   "execution_count": 11,
   "metadata": {},
   "outputs": [],
   "source": [
    "scaler = MinMaxScaler()"
   ]
  },
  {
   "cell_type": "code",
   "execution_count": 12,
   "metadata": {},
   "outputs": [],
   "source": [
    "train_scaled = scaler.fit_transform(train_set)"
   ]
  },
  {
   "cell_type": "code",
   "execution_count": 13,
   "metadata": {},
   "outputs": [],
   "source": [
    "test_scaled = scaler.transform(test_set)"
   ]
  },
  {
   "cell_type": "code",
   "execution_count": 14,
   "metadata": {},
   "outputs": [
    {
     "name": "stdout",
     "output_type": "stream",
     "text": [
      "training_set before scaling                      Milk Production\n",
      "Month                               \n",
      "1962-01-01 01:00:00            589.0\n",
      "1962-02-01 01:00:00            561.0\n",
      "1962-03-01 01:00:00            640.0\n",
      "1962-04-01 01:00:00            656.0\n",
      "1962-05-01 01:00:00            727.0\n",
      "1962-06-01 01:00:00            697.0\n",
      "1962-07-01 01:00:00            640.0\n",
      "1962-08-01 01:00:00            599.0\n",
      "1962-09-01 01:00:00            568.0\n",
      "1962-10-01 01:00:00            577.0\n",
      "1962-11-01 01:00:00            553.0\n",
      "1962-12-01 01:00:00            582.0\n",
      "1963-01-01 01:00:00            600.0\n",
      "1963-02-01 01:00:00            566.0\n",
      "1963-03-01 01:00:00            653.0\n",
      "1963-04-01 01:00:00            673.0\n",
      "1963-05-01 01:00:00            742.0\n",
      "1963-06-01 01:00:00            716.0\n",
      "1963-07-01 01:00:00            660.0\n",
      "1963-08-01 01:00:00            617.0\n",
      "1963-09-01 01:00:00            583.0\n",
      "1963-10-01 01:00:00            587.0\n",
      "1963-11-01 01:00:00            565.0\n",
      "1963-12-01 01:00:00            598.0\n",
      "1964-01-01 01:00:00            628.0\n",
      "1964-02-01 01:00:00            618.0\n",
      "1964-03-01 01:00:00            688.0\n",
      "1964-04-01 01:00:00            705.0\n",
      "1964-05-01 01:00:00            770.0\n",
      "1964-06-01 01:00:00            736.0\n",
      "...                              ...\n",
      "1971-07-01 01:00:00            869.0\n",
      "1971-08-01 01:00:00            834.0\n",
      "1971-09-01 01:00:00            790.0\n",
      "1971-10-01 01:00:00            800.0\n",
      "1971-11-01 01:00:00            763.0\n",
      "1971-12-01 01:00:00            800.0\n",
      "1972-01-01 01:00:00            826.0\n",
      "1972-02-01 01:00:00            799.0\n",
      "1972-03-01 01:00:00            890.0\n",
      "1972-04-01 01:00:00            900.0\n",
      "1972-05-01 01:00:00            961.0\n",
      "1972-06-01 01:00:00            935.0\n",
      "1972-07-01 01:00:00            894.0\n",
      "1972-08-01 01:00:00            855.0\n",
      "1972-09-01 01:00:00            809.0\n",
      "1972-10-01 01:00:00            810.0\n",
      "1972-11-01 01:00:00            766.0\n",
      "1972-12-01 01:00:00            805.0\n",
      "1973-01-01 01:00:00            821.0\n",
      "1973-02-01 01:00:00            773.0\n",
      "1973-03-01 01:00:00            883.0\n",
      "1973-04-01 01:00:00            898.0\n",
      "1973-05-01 01:00:00            957.0\n",
      "1973-06-01 01:00:00            924.0\n",
      "1973-07-01 01:00:00            881.0\n",
      "1973-08-01 01:00:00            837.0\n",
      "1973-09-01 01:00:00            784.0\n",
      "1973-10-01 01:00:00            791.0\n",
      "1973-11-01 01:00:00            760.0\n",
      "1973-12-01 01:00:00            802.0\n",
      "\n",
      "[144 rows x 1 columns]\n",
      "training_set after scaling [[ 0.08823529]\n",
      " [ 0.01960784]\n",
      " [ 0.21323529]\n",
      " [ 0.25245098]\n",
      " [ 0.42647059]\n",
      " [ 0.35294118]\n",
      " [ 0.21323529]\n",
      " [ 0.1127451 ]\n",
      " [ 0.03676471]\n",
      " [ 0.05882353]\n",
      " [ 0.        ]\n",
      " [ 0.07107843]\n",
      " [ 0.11519608]\n",
      " [ 0.03186275]\n",
      " [ 0.24509804]\n",
      " [ 0.29411765]\n",
      " [ 0.46323529]\n",
      " [ 0.3995098 ]\n",
      " [ 0.2622549 ]\n",
      " [ 0.15686275]\n",
      " [ 0.07352941]\n",
      " [ 0.08333333]\n",
      " [ 0.02941176]\n",
      " [ 0.11029412]\n",
      " [ 0.18382353]\n",
      " [ 0.15931373]\n",
      " [ 0.33088235]\n",
      " [ 0.37254902]\n",
      " [ 0.53186275]\n",
      " [ 0.44852941]\n",
      " [ 0.30637255]\n",
      " [ 0.21078431]\n",
      " [ 0.125     ]\n",
      " [ 0.14215686]\n",
      " [ 0.1004902 ]\n",
      " [ 0.19852941]\n",
      " [ 0.25735294]\n",
      " [ 0.16911765]\n",
      " [ 0.38235294]\n",
      " [ 0.41421569]\n",
      " [ 0.56127451]\n",
      " [ 0.49754902]\n",
      " [ 0.36519608]\n",
      " [ 0.24509804]\n",
      " [ 0.15196078]\n",
      " [ 0.16666667]\n",
      " [ 0.12009804]\n",
      " [ 0.20098039]\n",
      " [ 0.30392157]\n",
      " [ 0.20098039]\n",
      " [ 0.44852941]\n",
      " [ 0.49509804]\n",
      " [ 0.63235294]\n",
      " [ 0.6004902 ]\n",
      " [ 0.44607843]\n",
      " [ 0.35294118]\n",
      " [ 0.26470588]\n",
      " [ 0.27941176]\n",
      " [ 0.2254902 ]\n",
      " [ 0.33088235]\n",
      " [ 0.39215686]\n",
      " [ 0.27941176]\n",
      " [ 0.5122549 ]\n",
      " [ 0.56617647]\n",
      " [ 0.69607843]\n",
      " [ 0.64705882]\n",
      " [ 0.5245098 ]\n",
      " [ 0.41421569]\n",
      " [ 0.31372549]\n",
      " [ 0.32843137]\n",
      " [ 0.2622549 ]\n",
      " [ 0.35539216]\n",
      " [ 0.40196078]\n",
      " [ 0.3504902 ]\n",
      " [ 0.54411765]\n",
      " [ 0.59558824]\n",
      " [ 0.74754902]\n",
      " [ 0.66911765]\n",
      " [ 0.56372549]\n",
      " [ 0.45833333]\n",
      " [ 0.3627451 ]\n",
      " [ 0.375     ]\n",
      " [ 0.30392157]\n",
      " [ 0.3872549 ]\n",
      " [ 0.44362745]\n",
      " [ 0.33578431]\n",
      " [ 0.56862745]\n",
      " [ 0.61764706]\n",
      " [ 0.77941176]\n",
      " [ 0.71568627]\n",
      " [ 0.60784314]\n",
      " [ 0.51715686]\n",
      " [ 0.42156863]\n",
      " [ 0.41666667]\n",
      " [ 0.33578431]\n",
      " [ 0.44362745]\n",
      " [ 0.48284314]\n",
      " [ 0.37745098]\n",
      " [ 0.62254902]\n",
      " [ 0.66421569]\n",
      " [ 0.81617647]\n",
      " [ 0.75      ]\n",
      " [ 0.65196078]\n",
      " [ 0.56372549]\n",
      " [ 0.45833333]\n",
      " [ 0.4754902 ]\n",
      " [ 0.3872549 ]\n",
      " [ 0.48529412]\n",
      " [ 0.61519608]\n",
      " [ 0.49754902]\n",
      " [ 0.75245098]\n",
      " [ 0.79656863]\n",
      " [ 0.95343137]\n",
      " [ 0.88235294]\n",
      " [ 0.7745098 ]\n",
      " [ 0.68872549]\n",
      " [ 0.58088235]\n",
      " [ 0.60539216]\n",
      " [ 0.51470588]\n",
      " [ 0.60539216]\n",
      " [ 0.66911765]\n",
      " [ 0.60294118]\n",
      " [ 0.82598039]\n",
      " [ 0.8504902 ]\n",
      " [ 1.        ]\n",
      " [ 0.93627451]\n",
      " [ 0.83578431]\n",
      " [ 0.74019608]\n",
      " [ 0.62745098]\n",
      " [ 0.62990196]\n",
      " [ 0.52205882]\n",
      " [ 0.61764706]\n",
      " [ 0.65686275]\n",
      " [ 0.53921569]\n",
      " [ 0.80882353]\n",
      " [ 0.84558824]\n",
      " [ 0.99019608]\n",
      " [ 0.90931373]\n",
      " [ 0.80392157]\n",
      " [ 0.69607843]\n",
      " [ 0.56617647]\n",
      " [ 0.58333333]\n",
      " [ 0.50735294]\n",
      " [ 0.61029412]]\n"
     ]
    }
   ],
   "source": [
    "print('training_set before scaling',train_set)\n",
    "print('training_set after scaling', train_scaled)"
   ]
  },
  {
   "cell_type": "code",
   "execution_count": 15,
   "metadata": {},
   "outputs": [
    {
     "name": "stdout",
     "output_type": "stream",
     "text": [
      "test_set before scaling                      Milk Production\n",
      "Month                               \n",
      "1974-01-01 01:00:00            828.0\n",
      "1974-02-01 01:00:00            778.0\n",
      "1974-03-01 01:00:00            889.0\n",
      "1974-04-01 01:00:00            902.0\n",
      "1974-05-01 01:00:00            969.0\n",
      "1974-06-01 01:00:00            947.0\n",
      "1974-07-01 01:00:00            908.0\n",
      "1974-08-01 01:00:00            867.0\n",
      "1974-09-01 01:00:00            815.0\n",
      "1974-10-01 01:00:00            812.0\n",
      "1974-11-01 01:00:00            773.0\n",
      "1974-12-01 01:00:00            813.0\n",
      "1975-01-01 01:00:00            834.0\n",
      "1975-02-01 01:00:00            782.0\n",
      "1975-03-01 01:00:00            892.0\n",
      "1975-04-01 01:00:00            903.0\n",
      "1975-05-01 01:00:00            966.0\n",
      "1975-06-01 01:00:00            937.0\n",
      "1975-07-01 01:00:00            896.0\n",
      "1975-08-01 01:00:00            858.0\n",
      "1975-09-01 01:00:00            817.0\n",
      "1975-10-01 01:00:00            827.0\n",
      "1975-11-01 01:00:00            797.0\n",
      "1975-12-01 01:00:00            843.0\n",
      "test_set after scaling [[ 0.67401961]\n",
      " [ 0.55147059]\n",
      " [ 0.82352941]\n",
      " [ 0.85539216]\n",
      " [ 1.01960784]\n",
      " [ 0.96568627]\n",
      " [ 0.87009804]\n",
      " [ 0.76960784]\n",
      " [ 0.64215686]\n",
      " [ 0.63480392]\n",
      " [ 0.53921569]\n",
      " [ 0.6372549 ]\n",
      " [ 0.68872549]\n",
      " [ 0.56127451]\n",
      " [ 0.83088235]\n",
      " [ 0.85784314]\n",
      " [ 1.0122549 ]\n",
      " [ 0.94117647]\n",
      " [ 0.84068627]\n",
      " [ 0.74754902]\n",
      " [ 0.64705882]\n",
      " [ 0.67156863]\n",
      " [ 0.59803922]\n",
      " [ 0.71078431]]\n"
     ]
    }
   ],
   "source": [
    "print('test_set before scaling',test_set)\n",
    "print('test_set after scaling', test_scaled)"
   ]
  },
  {
   "cell_type": "markdown",
   "metadata": {},
   "source": [
    "## Batch Function\n",
    "\n",
    "** We'll need a function that can feed batches of the training data. We'll need to do several things that are listed out as steps in the comments of the function. Remember to reference the previous batch method from the lecture for hints. Try to fill out the function template below, this is a pretty hard step, so feel free to reference the solutions! **"
   ]
  },
  {
   "cell_type": "code",
   "execution_count": 16,
   "metadata": {},
   "outputs": [],
   "source": [
    "def next_batch(training_data,batch_size,steps):\n",
    "    \"\"\"\n",
    "    INPUT: Data, Batch Size, Time Steps per batch\n",
    "    OUTPUT: A tuple of y time series results. y[:,:-1] and y[:,1:]\n",
    "    \"\"\"\n",
    "    \n",
    "    # STEP 1: Use np.random.randint to set a random starting point index for the batch.\n",
    "    # Remember that each batch needs have the same number of steps in it.\n",
    "    # This means you should limit the starting point to len(data)-steps\n",
    "    rand_start = np.random.randint(0,len(training_data)-steps) \n",
    "    \n",
    "    # STEP 2: Now that you have a starting index you'll need to index the data from\n",
    "    # the random start to random start + steps + 1. Then reshape this data to be (1,steps+1)\n",
    "    y_batch = np.array(training_data[rand_start:rand_start+steps+1]).reshape(1,steps+1)\n",
    "    \n",
    "    # STEP 3: Return the batches. You'll have two batches to return y[:,:-1] and y[:,1:]\n",
    "    # You'll need to reshape these into tensors for the RNN to .reshape(-1,steps,1)\n",
    "    return y_batch[:, :-1].reshape(-1, steps, 1), y_batch[:, 1:].reshape(-1, steps, 1) \n",
    "    \n",
    "\n",
    "    "
   ]
  },
  {
   "cell_type": "code",
   "execution_count": null,
   "metadata": {},
   "outputs": [],
   "source": []
  },
  {
   "cell_type": "markdown",
   "metadata": {},
   "source": [
    "## Setting Up The RNN Model"
   ]
  },
  {
   "cell_type": "markdown",
   "metadata": {},
   "source": [
    "** Import TensorFlow **"
   ]
  },
  {
   "cell_type": "code",
   "execution_count": 17,
   "metadata": {},
   "outputs": [],
   "source": [
    "import tensorflow as tf"
   ]
  },
  {
   "cell_type": "code",
   "execution_count": 18,
   "metadata": {},
   "outputs": [],
   "source": [
    "tf.reset_default_graph()"
   ]
  },
  {
   "cell_type": "markdown",
   "metadata": {},
   "source": [
    "### The Constants\n",
    "\n",
    "** Define the constants in a single cell. You'll need the following (in parenthesis are the values I used in my solution, but you can play with some of these): **\n",
    "* Number of Inputs (1)\n",
    "* Number of Time Steps (12)\n",
    "* Number of Neurons per Layer (100)\n",
    "* Number of Outputs (1)\n",
    "* Learning Rate (0.03)\n",
    "* Number of Iterations for Training (4000)\n",
    "* Batch Size (1)"
   ]
  },
  {
   "cell_type": "code",
   "execution_count": 19,
   "metadata": {},
   "outputs": [],
   "source": [
    "num_inputs = 1\n",
    "num_time_steps = 24\n",
    "num_neurons = 100\n",
    "num_outputs = 1\n",
    "learning_rate = 0.0001\n",
    "num_iterations = 10000\n",
    "batch_size = 1"
   ]
  },
  {
   "cell_type": "markdown",
   "metadata": {},
   "source": [
    "** Create Placeholders for X and y. (You can change the variable names if you want). The shape for these placeholders should be [None,num_time_steps-1,num_inputs] and [None, num_time_steps-1, num_outputs] The reason we use num_time_steps-1 is because each of these will be one step shorter than the original time steps size, because we are training the RNN network to predict one point into the future based on the input sequence.**  "
   ]
  },
  {
   "cell_type": "code",
   "execution_count": 20,
   "metadata": {},
   "outputs": [],
   "source": [
    "X = tf.placeholder(tf.float32,[None, num_time_steps, num_inputs])\n",
    "y = tf.placeholder(tf.float32,[None, num_time_steps, num_outputs])"
   ]
  },
  {
   "cell_type": "markdown",
   "metadata": {},
   "source": [
    "** Now create the RNN Layer, you have complete freedom over this, use tf.contrib.rnn and choose anything you want, OutputProjectionWrappers, BasicRNNCells, BasicLSTMCells, MultiRNNCell, GRUCell etc... Keep in mind not every combination will work well! (If in doubt, the solutions used an Outputprojection Wrapper around a basic LSTM cell with relu activation.**"
   ]
  },
  {
   "cell_type": "code",
   "execution_count": 21,
   "metadata": {},
   "outputs": [],
   "source": [
    "cell = tf.contrib.rnn.OutputProjectionWrapper(\n",
    "        tf.contrib.rnn.BasicLSTMCell(num_units=num_neurons, activation=tf.nn.relu),\n",
    "        output_size=num_outputs\n",
    "    )"
   ]
  },
  {
   "cell_type": "markdown",
   "metadata": {},
   "source": [
    "** Now pass in the cells variable into tf.nn.dynamic_rnn, along with your first placeholder (X)**"
   ]
  },
  {
   "cell_type": "code",
   "execution_count": 22,
   "metadata": {},
   "outputs": [],
   "source": [
    "outputs, states = tf.nn.dynamic_rnn(cell, X, dtype=tf.float32)"
   ]
  },
  {
   "cell_type": "markdown",
   "metadata": {},
   "source": [
    "### Loss Function and Optimizer\n",
    "\n",
    "** Create a Mean Squared Error Loss Function and use it to minimize an AdamOptimizer, remember to pass in your learning rate. **"
   ]
  },
  {
   "cell_type": "code",
   "execution_count": 23,
   "metadata": {},
   "outputs": [],
   "source": [
    "loss = tf.reduce_mean(tf.square(outputs - y))\n",
    "optimizer = tf.train.AdamOptimizer(learning_rate = learning_rate)\n",
    "train = optimizer.minimize(loss)"
   ]
  },
  {
   "cell_type": "markdown",
   "metadata": {},
   "source": [
    "** Initialize the global variables **"
   ]
  },
  {
   "cell_type": "code",
   "execution_count": 24,
   "metadata": {},
   "outputs": [],
   "source": [
    "init = tf.global_variables_initializer()"
   ]
  },
  {
   "cell_type": "markdown",
   "metadata": {},
   "source": [
    "** Create an instance of tf.train.Saver() **"
   ]
  },
  {
   "cell_type": "code",
   "execution_count": 25,
   "metadata": {},
   "outputs": [],
   "source": [
    "saver = tf.train.Saver()"
   ]
  },
  {
   "cell_type": "markdown",
   "metadata": {},
   "source": [
    "### Session\n",
    "\n",
    "** Run a tf.Session that trains on the batches created by your next_batch function. Also add an a loss evaluation for every 100 training iterations. Remember to save your model after you are done training. **"
   ]
  },
  {
   "cell_type": "code",
   "execution_count": 26,
   "metadata": {},
   "outputs": [],
   "source": [
    "gpu_options = tf.GPUOptions(per_process_gpu_memory_fraction=0.85)"
   ]
  },
  {
   "cell_type": "code",
   "execution_count": 27,
   "metadata": {},
   "outputs": [
    {
     "name": "stdout",
     "output_type": "stream",
     "text": [
      "0 \tMSE 0.103246\n",
      "100 \tMSE 0.284365\n",
      "200 \tMSE 0.0493472\n",
      "300 \tMSE 0.0277966\n",
      "400 \tMSE 0.0520448\n",
      "500 \tMSE 0.0377269\n",
      "600 \tMSE 0.0577252\n",
      "700 \tMSE 0.0637514\n",
      "800 \tMSE 0.059545\n",
      "900 \tMSE 0.0436598\n",
      "1000 \tMSE 0.0254085\n",
      "1100 \tMSE 0.0340722\n",
      "1200 \tMSE 0.02007\n",
      "1300 \tMSE 0.0257778\n",
      "1400 \tMSE 0.0271367\n",
      "1500 \tMSE 0.0380394\n",
      "1600 \tMSE 0.0277871\n",
      "1700 \tMSE 0.0237349\n",
      "1800 \tMSE 0.0192356\n",
      "1900 \tMSE 0.0230207\n",
      "2000 \tMSE 0.0193551\n",
      "2100 \tMSE 0.0222844\n",
      "2200 \tMSE 0.0228959\n",
      "2300 \tMSE 0.0271138\n",
      "2400 \tMSE 0.0353673\n",
      "2500 \tMSE 0.0229684\n",
      "2600 \tMSE 0.0229273\n",
      "2700 \tMSE 0.013589\n",
      "2800 \tMSE 0.015697\n",
      "2900 \tMSE 0.0167449\n",
      "3000 \tMSE 0.0105819\n",
      "3100 \tMSE 0.0245692\n",
      "3200 \tMSE 0.0192112\n",
      "3300 \tMSE 0.0202012\n",
      "3400 \tMSE 0.0140453\n",
      "3500 \tMSE 0.0163746\n",
      "3600 \tMSE 0.0183372\n",
      "3700 \tMSE 0.0127018\n",
      "3800 \tMSE 0.00944547\n",
      "3900 \tMSE 0.0123955\n",
      "4000 \tMSE 0.0085212\n",
      "4100 \tMSE 0.00907071\n",
      "4200 \tMSE 0.0147956\n",
      "4300 \tMSE 0.00830447\n",
      "4400 \tMSE 0.0109609\n",
      "4500 \tMSE 0.0102726\n",
      "4600 \tMSE 0.0145456\n",
      "4700 \tMSE 0.0156408\n",
      "4800 \tMSE 0.00883478\n",
      "4900 \tMSE 0.013944\n",
      "5000 \tMSE 0.0113674\n",
      "5100 \tMSE 0.00945896\n",
      "5200 \tMSE 0.00614329\n",
      "5300 \tMSE 0.011765\n",
      "5400 \tMSE 0.00629182\n",
      "5500 \tMSE 0.00782106\n",
      "5600 \tMSE 0.0119894\n",
      "5700 \tMSE 0.0116976\n",
      "5800 \tMSE 0.00899091\n",
      "5900 \tMSE 0.011789\n",
      "6000 \tMSE 0.0112284\n",
      "6100 \tMSE 0.00879135\n",
      "6200 \tMSE 0.0115399\n",
      "6300 \tMSE 0.0099475\n",
      "6400 \tMSE 0.0159572\n",
      "6500 \tMSE 0.017607\n",
      "6600 \tMSE 0.006244\n",
      "6700 \tMSE 0.00836814\n",
      "6800 \tMSE 0.00838416\n",
      "6900 \tMSE 0.00767969\n",
      "7000 \tMSE 0.00638371\n",
      "7100 \tMSE 0.00629709\n",
      "7200 \tMSE 0.00956688\n",
      "7300 \tMSE 0.012936\n",
      "7400 \tMSE 0.00684287\n",
      "7500 \tMSE 0.00957144\n",
      "7600 \tMSE 0.011886\n",
      "7700 \tMSE 0.00732065\n",
      "7800 \tMSE 0.00804137\n",
      "7900 \tMSE 0.00682995\n",
      "8000 \tMSE 0.00833073\n",
      "8100 \tMSE 0.0071849\n",
      "8200 \tMSE 0.00964926\n",
      "8300 \tMSE 0.00672066\n",
      "8400 \tMSE 0.00688433\n",
      "8500 \tMSE 0.00856277\n",
      "8600 \tMSE 0.00931214\n",
      "8700 \tMSE 0.00603467\n",
      "8800 \tMSE 0.00959214\n",
      "8900 \tMSE 0.00709918\n",
      "9000 \tMSE 0.010445\n",
      "9100 \tMSE 0.00562422\n",
      "9200 \tMSE 0.00656954\n",
      "9300 \tMSE 0.00573817\n",
      "9400 \tMSE 0.00653103\n",
      "9500 \tMSE 0.00632249\n",
      "9600 \tMSE 0.00924341\n",
      "9700 \tMSE 0.00511736\n",
      "9800 \tMSE 0.00675995\n",
      "9900 \tMSE 0.00569689\n"
     ]
    }
   ],
   "source": [
    "with tf.Session() as sess:\n",
    "    # CODE HERE!\n",
    "    sess.run(init)\n",
    "    \n",
    "    for iteration in range(num_iterations):\n",
    "        X_batch, y_batch = next_batch(train_scaled,batch_size,num_time_steps)\n",
    "        sess.run(train, feed_dict={X: X_batch, y:y_batch})\n",
    "        \n",
    "        if iteration % 100 == 0:\n",
    "            mse = loss.eval(feed_dict={X: X_batch, y:y_batch})\n",
    "            print(iteration, \"\\tMSE\", mse)\n",
    "    \n",
    "    # Save Model for Later\n",
    "    saver.save(sess, \"./milk_time_series_model\")"
   ]
  },
  {
   "cell_type": "markdown",
   "metadata": {},
   "source": [
    "______"
   ]
  },
  {
   "cell_type": "markdown",
   "metadata": {},
   "source": [
    "## Predicting Future (Test Data)"
   ]
  },
  {
   "cell_type": "markdown",
   "metadata": {},
   "source": [
    "** Show the test_set (the last 12 months of your original complete data set) **"
   ]
  },
  {
   "cell_type": "code",
   "execution_count": 28,
   "metadata": {},
   "outputs": [
    {
     "data": {
      "text/html": [
       "<div>\n",
       "<style>\n",
       "    .dataframe thead tr:only-child th {\n",
       "        text-align: right;\n",
       "    }\n",
       "\n",
       "    .dataframe thead th {\n",
       "        text-align: left;\n",
       "    }\n",
       "\n",
       "    .dataframe tbody tr th {\n",
       "        vertical-align: top;\n",
       "    }\n",
       "</style>\n",
       "<table border=\"1\" class=\"dataframe\">\n",
       "  <thead>\n",
       "    <tr style=\"text-align: right;\">\n",
       "      <th></th>\n",
       "      <th>Milk Production</th>\n",
       "    </tr>\n",
       "    <tr>\n",
       "      <th>Month</th>\n",
       "      <th></th>\n",
       "    </tr>\n",
       "  </thead>\n",
       "  <tbody>\n",
       "    <tr>\n",
       "      <th>1974-01-01 01:00:00</th>\n",
       "      <td>828.0</td>\n",
       "    </tr>\n",
       "    <tr>\n",
       "      <th>1974-02-01 01:00:00</th>\n",
       "      <td>778.0</td>\n",
       "    </tr>\n",
       "    <tr>\n",
       "      <th>1974-03-01 01:00:00</th>\n",
       "      <td>889.0</td>\n",
       "    </tr>\n",
       "    <tr>\n",
       "      <th>1974-04-01 01:00:00</th>\n",
       "      <td>902.0</td>\n",
       "    </tr>\n",
       "    <tr>\n",
       "      <th>1974-05-01 01:00:00</th>\n",
       "      <td>969.0</td>\n",
       "    </tr>\n",
       "    <tr>\n",
       "      <th>1974-06-01 01:00:00</th>\n",
       "      <td>947.0</td>\n",
       "    </tr>\n",
       "    <tr>\n",
       "      <th>1974-07-01 01:00:00</th>\n",
       "      <td>908.0</td>\n",
       "    </tr>\n",
       "    <tr>\n",
       "      <th>1974-08-01 01:00:00</th>\n",
       "      <td>867.0</td>\n",
       "    </tr>\n",
       "    <tr>\n",
       "      <th>1974-09-01 01:00:00</th>\n",
       "      <td>815.0</td>\n",
       "    </tr>\n",
       "    <tr>\n",
       "      <th>1974-10-01 01:00:00</th>\n",
       "      <td>812.0</td>\n",
       "    </tr>\n",
       "    <tr>\n",
       "      <th>1974-11-01 01:00:00</th>\n",
       "      <td>773.0</td>\n",
       "    </tr>\n",
       "    <tr>\n",
       "      <th>1974-12-01 01:00:00</th>\n",
       "      <td>813.0</td>\n",
       "    </tr>\n",
       "    <tr>\n",
       "      <th>1975-01-01 01:00:00</th>\n",
       "      <td>834.0</td>\n",
       "    </tr>\n",
       "    <tr>\n",
       "      <th>1975-02-01 01:00:00</th>\n",
       "      <td>782.0</td>\n",
       "    </tr>\n",
       "    <tr>\n",
       "      <th>1975-03-01 01:00:00</th>\n",
       "      <td>892.0</td>\n",
       "    </tr>\n",
       "    <tr>\n",
       "      <th>1975-04-01 01:00:00</th>\n",
       "      <td>903.0</td>\n",
       "    </tr>\n",
       "    <tr>\n",
       "      <th>1975-05-01 01:00:00</th>\n",
       "      <td>966.0</td>\n",
       "    </tr>\n",
       "    <tr>\n",
       "      <th>1975-06-01 01:00:00</th>\n",
       "      <td>937.0</td>\n",
       "    </tr>\n",
       "    <tr>\n",
       "      <th>1975-07-01 01:00:00</th>\n",
       "      <td>896.0</td>\n",
       "    </tr>\n",
       "    <tr>\n",
       "      <th>1975-08-01 01:00:00</th>\n",
       "      <td>858.0</td>\n",
       "    </tr>\n",
       "    <tr>\n",
       "      <th>1975-09-01 01:00:00</th>\n",
       "      <td>817.0</td>\n",
       "    </tr>\n",
       "    <tr>\n",
       "      <th>1975-10-01 01:00:00</th>\n",
       "      <td>827.0</td>\n",
       "    </tr>\n",
       "    <tr>\n",
       "      <th>1975-11-01 01:00:00</th>\n",
       "      <td>797.0</td>\n",
       "    </tr>\n",
       "    <tr>\n",
       "      <th>1975-12-01 01:00:00</th>\n",
       "      <td>843.0</td>\n",
       "    </tr>\n",
       "  </tbody>\n",
       "</table>\n",
       "</div>"
      ],
      "text/plain": [
       "                     Milk Production\n",
       "Month                               \n",
       "1974-01-01 01:00:00            828.0\n",
       "1974-02-01 01:00:00            778.0\n",
       "1974-03-01 01:00:00            889.0\n",
       "1974-04-01 01:00:00            902.0\n",
       "1974-05-01 01:00:00            969.0\n",
       "1974-06-01 01:00:00            947.0\n",
       "1974-07-01 01:00:00            908.0\n",
       "1974-08-01 01:00:00            867.0\n",
       "1974-09-01 01:00:00            815.0\n",
       "1974-10-01 01:00:00            812.0\n",
       "1974-11-01 01:00:00            773.0\n",
       "1974-12-01 01:00:00            813.0\n",
       "1975-01-01 01:00:00            834.0\n",
       "1975-02-01 01:00:00            782.0\n",
       "1975-03-01 01:00:00            892.0\n",
       "1975-04-01 01:00:00            903.0\n",
       "1975-05-01 01:00:00            966.0\n",
       "1975-06-01 01:00:00            937.0\n",
       "1975-07-01 01:00:00            896.0\n",
       "1975-08-01 01:00:00            858.0\n",
       "1975-09-01 01:00:00            817.0\n",
       "1975-10-01 01:00:00            827.0\n",
       "1975-11-01 01:00:00            797.0\n",
       "1975-12-01 01:00:00            843.0"
      ]
     },
     "execution_count": 28,
     "metadata": {},
     "output_type": "execute_result"
    }
   ],
   "source": [
    "# CODE HERE\n",
    "test_set"
   ]
  },
  {
   "cell_type": "markdown",
   "metadata": {},
   "source": [
    "** Now we want to attempt to predict these 12 months of data, using only the training data we had. To do this we will feed in a seed training_instance of the last 12 months of the training_set of data to predict 12 months into the future. Then we will be able to compare our generated 12 months to our actual true historical values from the test set! **"
   ]
  },
  {
   "cell_type": "markdown",
   "metadata": {},
   "source": [
    "# Generative Session\n",
    "### NOTE: Recall that our model is really only trained to predict 1 time step ahead, asking it to generate 12 steps is a big ask, and technically not what it was trained to do! Think of this more as generating new values based off some previous pattern, rather than trying to directly predict the future. You would need to go back to the original model and train the model to predict 12 time steps ahead to really get a higher accuracy on the test data. (Which has its limits due to the smaller size of our data set)\n",
    "** Fill out the session code below to generate 12 months of data based off the last 12 months of data from the training set. The hardest part about this is adjusting the arrays with their shapes and sizes. Reference the lecture for hints.**"
   ]
  },
  {
   "cell_type": "code",
   "execution_count": 29,
   "metadata": {},
   "outputs": [
    {
     "name": "stdout",
     "output_type": "stream",
     "text": [
      "[array([ 0.66911765]), array([ 0.60294118]), array([ 0.82598039]), array([ 0.8504902]), array([ 1.]), array([ 0.93627451]), array([ 0.83578431]), array([ 0.74019608]), array([ 0.62745098]), array([ 0.62990196]), array([ 0.52205882]), array([ 0.61764706]), array([ 0.65686275]), array([ 0.53921569]), array([ 0.80882353]), array([ 0.84558824]), array([ 0.99019608]), array([ 0.90931373]), array([ 0.80392157]), array([ 0.69607843]), array([ 0.56617647]), array([ 0.58333333]), array([ 0.50735294]), array([ 0.61029412])]\n",
      "[[[ 0.66911765]\n",
      "  [ 0.60294118]\n",
      "  [ 0.82598039]\n",
      "  [ 0.8504902 ]\n",
      "  [ 1.        ]\n",
      "  [ 0.93627451]\n",
      "  [ 0.83578431]\n",
      "  [ 0.74019608]\n",
      "  [ 0.62745098]\n",
      "  [ 0.62990196]\n",
      "  [ 0.52205882]\n",
      "  [ 0.61764706]\n",
      "  [ 0.65686275]\n",
      "  [ 0.53921569]\n",
      "  [ 0.80882353]\n",
      "  [ 0.84558824]\n",
      "  [ 0.99019608]\n",
      "  [ 0.90931373]\n",
      "  [ 0.80392157]\n",
      "  [ 0.69607843]\n",
      "  [ 0.56617647]\n",
      "  [ 0.58333333]\n",
      "  [ 0.50735294]\n",
      "  [ 0.61029412]]]\n"
     ]
    }
   ],
   "source": [
    "train_seed = list(train_scaled[-num_time_steps:])\n",
    "print(train_seed)\n",
    "print(np.array(train_seed[-num_time_steps:]).reshape(1, num_time_steps,1))"
   ]
  },
  {
   "cell_type": "code",
   "execution_count": 30,
   "metadata": {},
   "outputs": [
    {
     "name": "stdout",
     "output_type": "stream",
     "text": [
      "INFO:tensorflow:Restoring parameters from ./milk_time_series_model\n"
     ]
    }
   ],
   "source": [
    "with tf.Session() as sess:\n",
    "    \n",
    "    # Use your Saver instance to restore your saved rnn time series model\n",
    "    saver.restore(sess, \"./milk_time_series_model\")\n",
    "\n",
    "    # CODE HERE!\n",
    "    train_seed = list(train_scaled[-24:])\n",
    "    \n",
    "    for iteration in range(24):\n",
    "        X_new = np.array(train_seed[-num_time_steps:]).reshape(1, num_time_steps,1)\n",
    "        y_pred = sess.run(outputs, feed_dict={X: X_new})\n",
    "        train_seed.append(y_pred[0, -1, 0])"
   ]
  },
  {
   "cell_type": "markdown",
   "metadata": {},
   "source": [
    "** Show the result of the predictions. **"
   ]
  },
  {
   "cell_type": "code",
   "execution_count": 31,
   "metadata": {},
   "outputs": [
    {
     "data": {
      "text/plain": [
       "array([[ 0.66479611],\n",
       "       [ 0.74392927],\n",
       "       [ 0.8578161 ],\n",
       "       [ 0.98007381],\n",
       "       [ 1.05621171],\n",
       "       [ 1.03285205],\n",
       "       [ 0.90171146],\n",
       "       [ 0.77622706],\n",
       "       [ 0.69505858],\n",
       "       [ 0.65763247],\n",
       "       [ 0.65439159],\n",
       "       [ 0.68287402],\n",
       "       [ 0.7353549 ],\n",
       "       [ 0.80697966],\n",
       "       [ 0.9104284 ],\n",
       "       [ 1.03064847],\n",
       "       [ 1.11983132],\n",
       "       [ 1.12123048],\n",
       "       [ 1.00959897],\n",
       "       [ 0.87883717],\n",
       "       [ 0.79051787],\n",
       "       [ 0.74367982],\n",
       "       [ 0.73181492],\n",
       "       [ 0.75386983]], dtype=float32)"
      ]
     },
     "execution_count": 31,
     "metadata": {},
     "output_type": "execute_result"
    }
   ],
   "source": [
    "np.array(train_seed[24:]).reshape(24,1)"
   ]
  },
  {
   "cell_type": "markdown",
   "metadata": {},
   "source": [
    "** Grab the portion of the results that are the generated values and apply inverse_transform on them to turn them back into milk production value units (lbs per cow). Also reshape the results to be (12,1) so we can easily add them to the test_set dataframe.**"
   ]
  },
  {
   "cell_type": "code",
   "execution_count": 33,
   "metadata": {},
   "outputs": [],
   "source": [
    "result = scaler.inverse_transform(np.array(train_seed[24:]).reshape(24,1) )"
   ]
  },
  {
   "cell_type": "markdown",
   "metadata": {},
   "source": [
    "** Create a new column on the test_set called \"Generated\" and set it equal to the generated results. You may get a warning about this, feel free to ignore it.**"
   ]
  },
  {
   "cell_type": "code",
   "execution_count": 34,
   "metadata": {},
   "outputs": [
    {
     "name": "stderr",
     "output_type": "stream",
     "text": [
      "C:\\Users\\bloui\\Anaconda3\\envs\\tensorflow\\lib\\site-packages\\ipykernel_launcher.py:1: SettingWithCopyWarning: \n",
      "A value is trying to be set on a copy of a slice from a DataFrame.\n",
      "Try using .loc[row_indexer,col_indexer] = value instead\n",
      "\n",
      "See the caveats in the documentation: http://pandas.pydata.org/pandas-docs/stable/indexing.html#indexing-view-versus-copy\n",
      "  \"\"\"Entry point for launching an IPython kernel.\n"
     ]
    }
   ],
   "source": [
    "test_set['Generated'] = result"
   ]
  },
  {
   "cell_type": "markdown",
   "metadata": {},
   "source": [
    "** View the test_set dataframe. **"
   ]
  },
  {
   "cell_type": "code",
   "execution_count": 35,
   "metadata": {},
   "outputs": [
    {
     "data": {
      "text/html": [
       "<div>\n",
       "<style>\n",
       "    .dataframe thead tr:only-child th {\n",
       "        text-align: right;\n",
       "    }\n",
       "\n",
       "    .dataframe thead th {\n",
       "        text-align: left;\n",
       "    }\n",
       "\n",
       "    .dataframe tbody tr th {\n",
       "        vertical-align: top;\n",
       "    }\n",
       "</style>\n",
       "<table border=\"1\" class=\"dataframe\">\n",
       "  <thead>\n",
       "    <tr style=\"text-align: right;\">\n",
       "      <th></th>\n",
       "      <th>Milk Production</th>\n",
       "      <th>Generated</th>\n",
       "    </tr>\n",
       "    <tr>\n",
       "      <th>Month</th>\n",
       "      <th></th>\n",
       "      <th></th>\n",
       "    </tr>\n",
       "  </thead>\n",
       "  <tbody>\n",
       "    <tr>\n",
       "      <th>1974-01-01 01:00:00</th>\n",
       "      <td>828.0</td>\n",
       "      <td>824.236816</td>\n",
       "    </tr>\n",
       "    <tr>\n",
       "      <th>1974-02-01 01:00:00</th>\n",
       "      <td>778.0</td>\n",
       "      <td>856.523132</td>\n",
       "    </tr>\n",
       "    <tr>\n",
       "      <th>1974-03-01 01:00:00</th>\n",
       "      <td>889.0</td>\n",
       "      <td>902.988953</td>\n",
       "    </tr>\n",
       "    <tr>\n",
       "      <th>1974-04-01 01:00:00</th>\n",
       "      <td>902.0</td>\n",
       "      <td>952.870117</td>\n",
       "    </tr>\n",
       "    <tr>\n",
       "      <th>1974-05-01 01:00:00</th>\n",
       "      <td>969.0</td>\n",
       "      <td>983.934387</td>\n",
       "    </tr>\n",
       "    <tr>\n",
       "      <th>1974-06-01 01:00:00</th>\n",
       "      <td>947.0</td>\n",
       "      <td>974.403625</td>\n",
       "    </tr>\n",
       "    <tr>\n",
       "      <th>1974-07-01 01:00:00</th>\n",
       "      <td>908.0</td>\n",
       "      <td>920.898315</td>\n",
       "    </tr>\n",
       "    <tr>\n",
       "      <th>1974-08-01 01:00:00</th>\n",
       "      <td>867.0</td>\n",
       "      <td>869.700623</td>\n",
       "    </tr>\n",
       "    <tr>\n",
       "      <th>1974-09-01 01:00:00</th>\n",
       "      <td>815.0</td>\n",
       "      <td>836.583923</td>\n",
       "    </tr>\n",
       "    <tr>\n",
       "      <th>1974-10-01 01:00:00</th>\n",
       "      <td>812.0</td>\n",
       "      <td>821.314026</td>\n",
       "    </tr>\n",
       "    <tr>\n",
       "      <th>1974-11-01 01:00:00</th>\n",
       "      <td>773.0</td>\n",
       "      <td>819.991760</td>\n",
       "    </tr>\n",
       "    <tr>\n",
       "      <th>1974-12-01 01:00:00</th>\n",
       "      <td>813.0</td>\n",
       "      <td>831.612610</td>\n",
       "    </tr>\n",
       "    <tr>\n",
       "      <th>1975-01-01 01:00:00</th>\n",
       "      <td>834.0</td>\n",
       "      <td>853.024841</td>\n",
       "    </tr>\n",
       "    <tr>\n",
       "      <th>1975-02-01 01:00:00</th>\n",
       "      <td>782.0</td>\n",
       "      <td>882.247742</td>\n",
       "    </tr>\n",
       "    <tr>\n",
       "      <th>1975-03-01 01:00:00</th>\n",
       "      <td>892.0</td>\n",
       "      <td>924.454773</td>\n",
       "    </tr>\n",
       "    <tr>\n",
       "      <th>1975-04-01 01:00:00</th>\n",
       "      <td>903.0</td>\n",
       "      <td>973.504578</td>\n",
       "    </tr>\n",
       "    <tr>\n",
       "      <th>1975-05-01 01:00:00</th>\n",
       "      <td>966.0</td>\n",
       "      <td>1009.891235</td>\n",
       "    </tr>\n",
       "    <tr>\n",
       "      <th>1975-06-01 01:00:00</th>\n",
       "      <td>937.0</td>\n",
       "      <td>1010.462036</td>\n",
       "    </tr>\n",
       "    <tr>\n",
       "      <th>1975-07-01 01:00:00</th>\n",
       "      <td>896.0</td>\n",
       "      <td>964.916382</td>\n",
       "    </tr>\n",
       "    <tr>\n",
       "      <th>1975-08-01 01:00:00</th>\n",
       "      <td>858.0</td>\n",
       "      <td>911.565552</td>\n",
       "    </tr>\n",
       "    <tr>\n",
       "      <th>1975-09-01 01:00:00</th>\n",
       "      <td>817.0</td>\n",
       "      <td>875.531311</td>\n",
       "    </tr>\n",
       "    <tr>\n",
       "      <th>1975-10-01 01:00:00</th>\n",
       "      <td>827.0</td>\n",
       "      <td>856.421387</td>\n",
       "    </tr>\n",
       "    <tr>\n",
       "      <th>1975-11-01 01:00:00</th>\n",
       "      <td>797.0</td>\n",
       "      <td>851.580505</td>\n",
       "    </tr>\n",
       "    <tr>\n",
       "      <th>1975-12-01 01:00:00</th>\n",
       "      <td>843.0</td>\n",
       "      <td>860.578918</td>\n",
       "    </tr>\n",
       "  </tbody>\n",
       "</table>\n",
       "</div>"
      ],
      "text/plain": [
       "                     Milk Production    Generated\n",
       "Month                                            \n",
       "1974-01-01 01:00:00            828.0   824.236816\n",
       "1974-02-01 01:00:00            778.0   856.523132\n",
       "1974-03-01 01:00:00            889.0   902.988953\n",
       "1974-04-01 01:00:00            902.0   952.870117\n",
       "1974-05-01 01:00:00            969.0   983.934387\n",
       "1974-06-01 01:00:00            947.0   974.403625\n",
       "1974-07-01 01:00:00            908.0   920.898315\n",
       "1974-08-01 01:00:00            867.0   869.700623\n",
       "1974-09-01 01:00:00            815.0   836.583923\n",
       "1974-10-01 01:00:00            812.0   821.314026\n",
       "1974-11-01 01:00:00            773.0   819.991760\n",
       "1974-12-01 01:00:00            813.0   831.612610\n",
       "1975-01-01 01:00:00            834.0   853.024841\n",
       "1975-02-01 01:00:00            782.0   882.247742\n",
       "1975-03-01 01:00:00            892.0   924.454773\n",
       "1975-04-01 01:00:00            903.0   973.504578\n",
       "1975-05-01 01:00:00            966.0  1009.891235\n",
       "1975-06-01 01:00:00            937.0  1010.462036\n",
       "1975-07-01 01:00:00            896.0   964.916382\n",
       "1975-08-01 01:00:00            858.0   911.565552\n",
       "1975-09-01 01:00:00            817.0   875.531311\n",
       "1975-10-01 01:00:00            827.0   856.421387\n",
       "1975-11-01 01:00:00            797.0   851.580505\n",
       "1975-12-01 01:00:00            843.0   860.578918"
      ]
     },
     "execution_count": 35,
     "metadata": {},
     "output_type": "execute_result"
    }
   ],
   "source": [
    "test_set"
   ]
  },
  {
   "cell_type": "markdown",
   "metadata": {},
   "source": [
    "** Plot out the two columns for comparison. **"
   ]
  },
  {
   "cell_type": "code",
   "execution_count": 36,
   "metadata": {},
   "outputs": [
    {
     "data": {
      "text/plain": [
       "<matplotlib.axes._subplots.AxesSubplot at 0x2177a6e42b0>"
      ]
     },
     "execution_count": 36,
     "metadata": {},
     "output_type": "execute_result"
    },
    {
     "data": {
      "image/png": "[encoded data removed]",
      "text/plain": [
       "<matplotlib.figure.Figure at 0x21779157438>"
      ]
     },
     "metadata": {},
     "output_type": "display_data"
    }
   ],
   "source": [
    "test_set.plot()"
   ]
  },
  {
   "cell_type": "markdown",
   "metadata": {
    "collapsed": true
   },
   "source": [
    "# Great Job!\n",
    "\n",
    "Play around with the parameters and RNN layers, does a faster learning rate with more steps improve the model? What about GRU or BasicRNN units? What if you train the original model to not just predict one timestep ahead into the future, but 3 instead? Lots of stuff to add on here!"
   ]
  },
  {
   "cell_type": "code",
   "execution_count": null,
   "metadata": {},
   "outputs": [],
   "source": [
    "plt.plot(result)"
   ]
  },
  {
   "cell_type": "code",
   "execution_count": null,
   "metadata": {},
   "outputs": [],
   "source": []
  }
 ],
 "metadata": {
  "kernelspec": {
   "display_name": "Python 3",
   "language": "python",
   "name": "python3"
  },
  "language_info": {
   "codemirror_mode": {
    "name": "ipython",
    "version": 3
   },
   "file_extension": ".py",
   "mimetype": "text/x-python",
   "name": "python",
   "nbconvert_exporter": "python",
   "pygments_lexer": "ipython3",
   "version": "3.5.4"
  }
 },
 "nbformat": 4,
 "nbformat_minor": 2
}
