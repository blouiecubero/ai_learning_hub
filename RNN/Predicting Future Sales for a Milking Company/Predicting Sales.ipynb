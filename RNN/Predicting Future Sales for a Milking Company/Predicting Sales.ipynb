{
 "cells": [
  {
   "cell_type": "markdown",
   "metadata": {},
   "source": [
    "# Time Series Exercise - \n",
    "\n",
    "### Follow along with the instructions in bold. Watch the solutions video if you get stuck!"
   ]
  },
  {
   "cell_type": "markdown",
   "metadata": {},
   "source": [
    "## The Data\n",
    "\n",
    "** Source: https://datamarket.com/data/set/22ox/monthly-milk-production-pounds-per-cow-jan-62-dec-75#!ds=22ox&display=line **\n",
    "\n",
    "**Monthly milk production: pounds per cow. Jan 62 - Dec 75**"
   ]
  },
  {
   "cell_type": "markdown",
   "metadata": {},
   "source": [
    "** Import numpy pandas and matplotlib **"
   ]
  },
  {
   "cell_type": "code",
   "execution_count": 1,
   "metadata": {},
   "outputs": [],
   "source": [
    "import numpy as np\n",
    "import pandas as pd\n",
    "import matplotlib.pyplot as plt\n",
    "%matplotlib inline"
   ]
  },
  {
   "cell_type": "markdown",
   "metadata": {},
   "source": [
    "** Use pandas to read the csv of the monthly-milk-production.csv file and set index_col='Month' **"
   ]
  },
  {
   "cell_type": "code",
   "execution_count": 2,
   "metadata": {},
   "outputs": [],
   "source": [
    "data = pd.read_csv('monthly-milk-production.csv', index_col='Month')"
   ]
  },
  {
   "cell_type": "markdown",
   "metadata": {},
   "source": [
    "** Check out the head of the dataframe**"
   ]
  },
  {
   "cell_type": "code",
   "execution_count": 3,
   "metadata": {},
   "outputs": [
    {
     "data": {
      "text/html": [
       "<div>\n",
       "<style>\n",
       "    .dataframe thead tr:only-child th {\n",
       "        text-align: right;\n",
       "    }\n",
       "\n",
       "    .dataframe thead th {\n",
       "        text-align: left;\n",
       "    }\n",
       "\n",
       "    .dataframe tbody tr th {\n",
       "        vertical-align: top;\n",
       "    }\n",
       "</style>\n",
       "<table border=\"1\" class=\"dataframe\">\n",
       "  <thead>\n",
       "    <tr style=\"text-align: right;\">\n",
       "      <th></th>\n",
       "      <th>Milk Production</th>\n",
       "    </tr>\n",
       "    <tr>\n",
       "      <th>Month</th>\n",
       "      <th></th>\n",
       "    </tr>\n",
       "  </thead>\n",
       "  <tbody>\n",
       "    <tr>\n",
       "      <th>1962-01-01 01:00:00</th>\n",
       "      <td>589.0</td>\n",
       "    </tr>\n",
       "    <tr>\n",
       "      <th>1962-02-01 01:00:00</th>\n",
       "      <td>561.0</td>\n",
       "    </tr>\n",
       "    <tr>\n",
       "      <th>1962-03-01 01:00:00</th>\n",
       "      <td>640.0</td>\n",
       "    </tr>\n",
       "    <tr>\n",
       "      <th>1962-04-01 01:00:00</th>\n",
       "      <td>656.0</td>\n",
       "    </tr>\n",
       "    <tr>\n",
       "      <th>1962-05-01 01:00:00</th>\n",
       "      <td>727.0</td>\n",
       "    </tr>\n",
       "  </tbody>\n",
       "</table>\n",
       "</div>"
      ],
      "text/plain": [
       "                     Milk Production\n",
       "Month                               \n",
       "1962-01-01 01:00:00            589.0\n",
       "1962-02-01 01:00:00            561.0\n",
       "1962-03-01 01:00:00            640.0\n",
       "1962-04-01 01:00:00            656.0\n",
       "1962-05-01 01:00:00            727.0"
      ]
     },
     "execution_count": 3,
     "metadata": {},
     "output_type": "execute_result"
    }
   ],
   "source": [
    "data.head()"
   ]
  },
  {
   "cell_type": "markdown",
   "metadata": {},
   "source": [
    "** Make the index a time series by using: **\n",
    "\n",
    "    milk.index = pd.to_datetime(milk.index)"
   ]
  },
  {
   "cell_type": "code",
   "execution_count": 4,
   "metadata": {},
   "outputs": [],
   "source": [
    "data.index = pd.to_datetime(data.index)"
   ]
  },
  {
   "cell_type": "code",
   "execution_count": 5,
   "metadata": {},
   "outputs": [
    {
     "data": {
      "text/plain": [
       "DatetimeIndex(['1962-01-01 01:00:00', '1962-02-01 01:00:00',\n",
       "               '1962-03-01 01:00:00', '1962-04-01 01:00:00',\n",
       "               '1962-05-01 01:00:00', '1962-06-01 01:00:00',\n",
       "               '1962-07-01 01:00:00', '1962-08-01 01:00:00',\n",
       "               '1962-09-01 01:00:00', '1962-10-01 01:00:00',\n",
       "               ...\n",
       "               '1975-03-01 01:00:00', '1975-04-01 01:00:00',\n",
       "               '1975-05-01 01:00:00', '1975-06-01 01:00:00',\n",
       "               '1975-07-01 01:00:00', '1975-08-01 01:00:00',\n",
       "               '1975-09-01 01:00:00', '1975-10-01 01:00:00',\n",
       "               '1975-11-01 01:00:00', '1975-12-01 01:00:00'],\n",
       "              dtype='datetime64[ns]', name='Month', length=168, freq=None)"
      ]
     },
     "execution_count": 5,
     "metadata": {},
     "output_type": "execute_result"
    }
   ],
   "source": [
    "data.index"
   ]
  },
  {
   "cell_type": "markdown",
   "metadata": {},
   "source": [
    "** Plot out the time series data. **"
   ]
  },
  {
   "cell_type": "code",
   "execution_count": 6,
   "metadata": {},
   "outputs": [
    {
     "data": {
      "text/plain": [
       "<matplotlib.legend.Legend at 0x1faef689438>"
      ]
     },
     "execution_count": 6,
     "metadata": {},
     "output_type": "execute_result"
    },
    {
     "data": {
      "image/png": "[encoded data removed]",
      "text/plain": [
       "<matplotlib.figure.Figure at 0x1faef33d898>"
      ]
     },
     "metadata": {},
     "output_type": "display_data"
    }
   ],
   "source": [
    "plt.plot(data.index, data['Milk Production'], label=\"Milk Production\")\n",
    "plt.xlabel('Month')\n",
    "plt.legend()"
   ]
  },
  {
   "cell_type": "markdown",
   "metadata": {},
   "source": [
    "___"
   ]
  },
  {
   "cell_type": "markdown",
   "metadata": {},
   "source": [
    "### Train Test Split\n",
    "\n",
    "** Let's attempt to predict a year's worth of data. (12 months or 12 steps into the future) **\n",
    "\n",
    "** Create a test train split using indexing (hint: use .head() or tail() or .iloc[]). We don't want a random train test split, we want to specify that the test set is the last 12 months of data is the test set, with everything before it is the training. **"
   ]
  },
  {
   "cell_type": "code",
   "execution_count": 7,
   "metadata": {},
   "outputs": [
    {
     "name": "stdout",
     "output_type": "stream",
     "text": [
      "<class 'pandas.core.frame.DataFrame'>\n",
      "DatetimeIndex: 168 entries, 1962-01-01 01:00:00 to 1975-12-01 01:00:00\n",
      "Data columns (total 1 columns):\n",
      "Milk Production    168 non-null float64\n",
      "dtypes: float64(1)\n",
      "memory usage: 2.6 KB\n"
     ]
    }
   ],
   "source": [
    "data.info()"
   ]
  },
  {
   "cell_type": "code",
   "execution_count": 8,
   "metadata": {},
   "outputs": [],
   "source": [
    "train_set = data.head(168-24)"
   ]
  },
  {
   "cell_type": "code",
   "execution_count": 9,
   "metadata": {},
   "outputs": [],
   "source": [
    "test_set = data.tail(24)"
   ]
  },
  {
   "cell_type": "markdown",
   "metadata": {},
   "source": [
    "### Scale the Data\n",
    "\n",
    "** Use sklearn.preprocessing to scale the data using the MinMaxScaler. Remember to only fit_transform on the training data, then transform the test data. You shouldn't fit on the test data as well, otherwise you are assuming you would know about future behavior!**"
   ]
  },
  {
   "cell_type": "code",
   "execution_count": 10,
   "metadata": {},
   "outputs": [],
   "source": [
    "from sklearn.preprocessing import MinMaxScaler"
   ]
  },
  {
   "cell_type": "code",
   "execution_count": 11,
   "metadata": {},
   "outputs": [],
   "source": [
    "scaler = MinMaxScaler()"
   ]
  },
  {
   "cell_type": "code",
   "execution_count": 12,
   "metadata": {},
   "outputs": [],
   "source": [
    "train_scaled = scaler.fit_transform(train_set)"
   ]
  },
  {
   "cell_type": "code",
   "execution_count": 13,
   "metadata": {},
   "outputs": [],
   "source": [
    "test_scaled = scaler.transform(test_set)"
   ]
  },
  {
   "cell_type": "code",
   "execution_count": 14,
   "metadata": {},
   "outputs": [
    {
     "name": "stdout",
     "output_type": "stream",
     "text": [
      "training_set before scaling                      Milk Production\n",
      "Month                               \n",
      "1962-01-01 01:00:00            589.0\n",
      "1962-02-01 01:00:00            561.0\n",
      "1962-03-01 01:00:00            640.0\n",
      "1962-04-01 01:00:00            656.0\n",
      "1962-05-01 01:00:00            727.0\n",
      "1962-06-01 01:00:00            697.0\n",
      "1962-07-01 01:00:00            640.0\n",
      "1962-08-01 01:00:00            599.0\n",
      "1962-09-01 01:00:00            568.0\n",
      "1962-10-01 01:00:00            577.0\n",
      "1962-11-01 01:00:00            553.0\n",
      "1962-12-01 01:00:00            582.0\n",
      "1963-01-01 01:00:00            600.0\n",
      "1963-02-01 01:00:00            566.0\n",
      "1963-03-01 01:00:00            653.0\n",
      "1963-04-01 01:00:00            673.0\n",
      "1963-05-01 01:00:00            742.0\n",
      "1963-06-01 01:00:00            716.0\n",
      "1963-07-01 01:00:00            660.0\n",
      "1963-08-01 01:00:00            617.0\n",
      "1963-09-01 01:00:00            583.0\n",
      "1963-10-01 01:00:00            587.0\n",
      "1963-11-01 01:00:00            565.0\n",
      "1963-12-01 01:00:00            598.0\n",
      "1964-01-01 01:00:00            628.0\n",
      "1964-02-01 01:00:00            618.0\n",
      "1964-03-01 01:00:00            688.0\n",
      "1964-04-01 01:00:00            705.0\n",
      "1964-05-01 01:00:00            770.0\n",
      "1964-06-01 01:00:00            736.0\n",
      "...                              ...\n",
      "1971-07-01 01:00:00            869.0\n",
      "1971-08-01 01:00:00            834.0\n",
      "1971-09-01 01:00:00            790.0\n",
      "1971-10-01 01:00:00            800.0\n",
      "1971-11-01 01:00:00            763.0\n",
      "1971-12-01 01:00:00            800.0\n",
      "1972-01-01 01:00:00            826.0\n",
      "1972-02-01 01:00:00            799.0\n",
      "1972-03-01 01:00:00            890.0\n",
      "1972-04-01 01:00:00            900.0\n",
      "1972-05-01 01:00:00            961.0\n",
      "1972-06-01 01:00:00            935.0\n",
      "1972-07-01 01:00:00            894.0\n",
      "1972-08-01 01:00:00            855.0\n",
      "1972-09-01 01:00:00            809.0\n",
      "1972-10-01 01:00:00            810.0\n",
      "1972-11-01 01:00:00            766.0\n",
      "1972-12-01 01:00:00            805.0\n",
      "1973-01-01 01:00:00            821.0\n",
      "1973-02-01 01:00:00            773.0\n",
      "1973-03-01 01:00:00            883.0\n",
      "1973-04-01 01:00:00            898.0\n",
      "1973-05-01 01:00:00            957.0\n",
      "1973-06-01 01:00:00            924.0\n",
      "1973-07-01 01:00:00            881.0\n",
      "1973-08-01 01:00:00            837.0\n",
      "1973-09-01 01:00:00            784.0\n",
      "1973-10-01 01:00:00            791.0\n",
      "1973-11-01 01:00:00            760.0\n",
      "1973-12-01 01:00:00            802.0\n",
      "\n",
      "[144 rows x 1 columns]\n",
      "training_set after scaling [[ 0.08823529]\n",
      " [ 0.01960784]\n",
      " [ 0.21323529]\n",
      " [ 0.25245098]\n",
      " [ 0.42647059]\n",
      " [ 0.35294118]\n",
      " [ 0.21323529]\n",
      " [ 0.1127451 ]\n",
      " [ 0.03676471]\n",
      " [ 0.05882353]\n",
      " [ 0.        ]\n",
      " [ 0.07107843]\n",
      " [ 0.11519608]\n",
      " [ 0.03186275]\n",
      " [ 0.24509804]\n",
      " [ 0.29411765]\n",
      " [ 0.46323529]\n",
      " [ 0.3995098 ]\n",
      " [ 0.2622549 ]\n",
      " [ 0.15686275]\n",
      " [ 0.07352941]\n",
      " [ 0.08333333]\n",
      " [ 0.02941176]\n",
      " [ 0.11029412]\n",
      " [ 0.18382353]\n",
      " [ 0.15931373]\n",
      " [ 0.33088235]\n",
      " [ 0.37254902]\n",
      " [ 0.53186275]\n",
      " [ 0.44852941]\n",
      " [ 0.30637255]\n",
      " [ 0.21078431]\n",
      " [ 0.125     ]\n",
      " [ 0.14215686]\n",
      " [ 0.1004902 ]\n",
      " [ 0.19852941]\n",
      " [ 0.25735294]\n",
      " [ 0.16911765]\n",
      " [ 0.38235294]\n",
      " [ 0.41421569]\n",
      " [ 0.56127451]\n",
      " [ 0.49754902]\n",
      " [ 0.36519608]\n",
      " [ 0.24509804]\n",
      " [ 0.15196078]\n",
      " [ 0.16666667]\n",
      " [ 0.12009804]\n",
      " [ 0.20098039]\n",
      " [ 0.30392157]\n",
      " [ 0.20098039]\n",
      " [ 0.44852941]\n",
      " [ 0.49509804]\n",
      " [ 0.63235294]\n",
      " [ 0.6004902 ]\n",
      " [ 0.44607843]\n",
      " [ 0.35294118]\n",
      " [ 0.26470588]\n",
      " [ 0.27941176]\n",
      " [ 0.2254902 ]\n",
      " [ 0.33088235]\n",
      " [ 0.39215686]\n",
      " [ 0.27941176]\n",
      " [ 0.5122549 ]\n",
      " [ 0.56617647]\n",
      " [ 0.69607843]\n",
      " [ 0.64705882]\n",
      " [ 0.5245098 ]\n",
      " [ 0.41421569]\n",
      " [ 0.31372549]\n",
      " [ 0.32843137]\n",
      " [ 0.2622549 ]\n",
      " [ 0.35539216]\n",
      " [ 0.40196078]\n",
      " [ 0.3504902 ]\n",
      " [ 0.54411765]\n",
      " [ 0.59558824]\n",
      " [ 0.74754902]\n",
      " [ 0.66911765]\n",
      " [ 0.56372549]\n",
      " [ 0.45833333]\n",
      " [ 0.3627451 ]\n",
      " [ 0.375     ]\n",
      " [ 0.30392157]\n",
      " [ 0.3872549 ]\n",
      " [ 0.44362745]\n",
      " [ 0.33578431]\n",
      " [ 0.56862745]\n",
      " [ 0.61764706]\n",
      " [ 0.77941176]\n",
      " [ 0.71568627]\n",
      " [ 0.60784314]\n",
      " [ 0.51715686]\n",
      " [ 0.42156863]\n",
      " [ 0.41666667]\n",
      " [ 0.33578431]\n",
      " [ 0.44362745]\n",
      " [ 0.48284314]\n",
      " [ 0.37745098]\n",
      " [ 0.62254902]\n",
      " [ 0.66421569]\n",
      " [ 0.81617647]\n",
      " [ 0.75      ]\n",
      " [ 0.65196078]\n",
      " [ 0.56372549]\n",
      " [ 0.45833333]\n",
      " [ 0.4754902 ]\n",
      " [ 0.3872549 ]\n",
      " [ 0.48529412]\n",
      " [ 0.61519608]\n",
      " [ 0.49754902]\n",
      " [ 0.75245098]\n",
      " [ 0.79656863]\n",
      " [ 0.95343137]\n",
      " [ 0.88235294]\n",
      " [ 0.7745098 ]\n",
      " [ 0.68872549]\n",
      " [ 0.58088235]\n",
      " [ 0.60539216]\n",
      " [ 0.51470588]\n",
      " [ 0.60539216]\n",
      " [ 0.66911765]\n",
      " [ 0.60294118]\n",
      " [ 0.82598039]\n",
      " [ 0.8504902 ]\n",
      " [ 1.        ]\n",
      " [ 0.93627451]\n",
      " [ 0.83578431]\n",
      " [ 0.74019608]\n",
      " [ 0.62745098]\n",
      " [ 0.62990196]\n",
      " [ 0.52205882]\n",
      " [ 0.61764706]\n",
      " [ 0.65686275]\n",
      " [ 0.53921569]\n",
      " [ 0.80882353]\n",
      " [ 0.84558824]\n",
      " [ 0.99019608]\n",
      " [ 0.90931373]\n",
      " [ 0.80392157]\n",
      " [ 0.69607843]\n",
      " [ 0.56617647]\n",
      " [ 0.58333333]\n",
      " [ 0.50735294]\n",
      " [ 0.61029412]]\n"
     ]
    }
   ],
   "source": [
    "print('training_set before scaling',train_set)\n",
    "print('training_set after scaling', train_scaled)"
   ]
  },
  {
   "cell_type": "code",
   "execution_count": 15,
   "metadata": {},
   "outputs": [
    {
     "name": "stdout",
     "output_type": "stream",
     "text": [
      "test_set before scaling                      Milk Production\n",
      "Month                               \n",
      "1974-01-01 01:00:00            828.0\n",
      "1974-02-01 01:00:00            778.0\n",
      "1974-03-01 01:00:00            889.0\n",
      "1974-04-01 01:00:00            902.0\n",
      "1974-05-01 01:00:00            969.0\n",
      "1974-06-01 01:00:00            947.0\n",
      "1974-07-01 01:00:00            908.0\n",
      "1974-08-01 01:00:00            867.0\n",
      "1974-09-01 01:00:00            815.0\n",
      "1974-10-01 01:00:00            812.0\n",
      "1974-11-01 01:00:00            773.0\n",
      "1974-12-01 01:00:00            813.0\n",
      "1975-01-01 01:00:00            834.0\n",
      "1975-02-01 01:00:00            782.0\n",
      "1975-03-01 01:00:00            892.0\n",
      "1975-04-01 01:00:00            903.0\n",
      "1975-05-01 01:00:00            966.0\n",
      "1975-06-01 01:00:00            937.0\n",
      "1975-07-01 01:00:00            896.0\n",
      "1975-08-01 01:00:00            858.0\n",
      "1975-09-01 01:00:00            817.0\n",
      "1975-10-01 01:00:00            827.0\n",
      "1975-11-01 01:00:00            797.0\n",
      "1975-12-01 01:00:00            843.0\n",
      "test_set after scaling [[ 0.67401961]\n",
      " [ 0.55147059]\n",
      " [ 0.82352941]\n",
      " [ 0.85539216]\n",
      " [ 1.01960784]\n",
      " [ 0.96568627]\n",
      " [ 0.87009804]\n",
      " [ 0.76960784]\n",
      " [ 0.64215686]\n",
      " [ 0.63480392]\n",
      " [ 0.53921569]\n",
      " [ 0.6372549 ]\n",
      " [ 0.68872549]\n",
      " [ 0.56127451]\n",
      " [ 0.83088235]\n",
      " [ 0.85784314]\n",
      " [ 1.0122549 ]\n",
      " [ 0.94117647]\n",
      " [ 0.84068627]\n",
      " [ 0.74754902]\n",
      " [ 0.64705882]\n",
      " [ 0.67156863]\n",
      " [ 0.59803922]\n",
      " [ 0.71078431]]\n"
     ]
    }
   ],
   "source": [
    "print('test_set before scaling',test_set)\n",
    "print('test_set after scaling', test_scaled)"
   ]
  },
  {
   "cell_type": "markdown",
   "metadata": {},
   "source": [
    "## Batch Function\n",
    "\n",
    "** We'll need a function that can feed batches of the training data. We'll need to do several things that are listed out as steps in the comments of the function. Remember to reference the previous batch method from the lecture for hints. Try to fill out the function template below, this is a pretty hard step, so feel free to reference the solutions! **"
   ]
  },
  {
   "cell_type": "code",
   "execution_count": 16,
   "metadata": {},
   "outputs": [],
   "source": [
    "def next_batch(training_data,batch_size,steps):\n",
    "    \"\"\"\n",
    "    INPUT: Data, Batch Size, Time Steps per batch\n",
    "    OUTPUT: A tuple of y time series results. y[:,:-1] and y[:,1:]\n",
    "    \"\"\"\n",
    "    \n",
    "    # STEP 1: Use np.random.randint to set a random starting point index for the batch.\n",
    "    # Remember that each batch needs have the same number of steps in it.\n",
    "    # This means you should limit the starting point to len(data)-steps\n",
    "    rand_start = np.random.randint(0,len(training_data)-steps) \n",
    "    \n",
    "    # STEP 2: Now that you have a starting index you'll need to index the data from\n",
    "    # the random start to random start + steps + 1. Then reshape this data to be (1,steps+1)\n",
    "    y_batch = np.array(training_data[rand_start:rand_start+steps+1]).reshape(1,steps+1)\n",
    "    \n",
    "    # STEP 3: Return the batches. You'll have two batches to return y[:,:-1] and y[:,1:]\n",
    "    # You'll need to reshape these into tensors for the RNN to .reshape(-1,steps,1)\n",
    "    return y_batch[:, :-1].reshape(-1, steps, 1), y_batch[:, 1:].reshape(-1, steps, 1) \n",
    "    \n",
    "\n",
    "    "
   ]
  },
  {
   "cell_type": "code",
   "execution_count": null,
   "metadata": {},
   "outputs": [],
   "source": []
  },
  {
   "cell_type": "markdown",
   "metadata": {},
   "source": [
    "## Setting Up The RNN Model"
   ]
  },
  {
   "cell_type": "markdown",
   "metadata": {},
   "source": [
    "** Import TensorFlow **"
   ]
  },
  {
   "cell_type": "code",
   "execution_count": 17,
   "metadata": {},
   "outputs": [],
   "source": [
    "import tensorflow as tf"
   ]
  },
  {
   "cell_type": "code",
   "execution_count": 18,
   "metadata": {},
   "outputs": [],
   "source": [
    "tf.reset_default_graph()"
   ]
  },
  {
   "cell_type": "markdown",
   "metadata": {},
   "source": [
    "### The Constants\n",
    "\n",
    "** Define the constants in a single cell. You'll need the following (in parenthesis are the values I used in my solution, but you can play with some of these): **\n",
    "* Number of Inputs (1)\n",
    "* Number of Time Steps (12)\n",
    "* Number of Neurons per Layer (100)\n",
    "* Number of Outputs (1)\n",
    "* Learning Rate (0.03)\n",
    "* Number of Iterations for Training (4000)\n",
    "* Batch Size (1)"
   ]
  },
  {
   "cell_type": "code",
   "execution_count": 19,
   "metadata": {},
   "outputs": [],
   "source": [
    "num_inputs = 1\n",
    "num_time_steps = 48\n",
    "num_neurons = 100\n",
    "num_outputs = 1\n",
    "learning_rate = 0.0001\n",
    "num_iterations = 10000\n",
    "batch_size = 1"
   ]
  },
  {
   "cell_type": "markdown",
   "metadata": {},
   "source": [
    "** Create Placeholders for X and y. (You can change the variable names if you want). The shape for these placeholders should be [None,num_time_steps-1,num_inputs] and [None, num_time_steps-1, num_outputs] The reason we use num_time_steps-1 is because each of these will be one step shorter than the original time steps size, because we are training the RNN network to predict one point into the future based on the input sequence.**  "
   ]
  },
  {
   "cell_type": "code",
   "execution_count": 20,
   "metadata": {},
   "outputs": [],
   "source": [
    "X = tf.placeholder(tf.float32,[None, num_time_steps, num_inputs])\n",
    "y = tf.placeholder(tf.float32,[None, num_time_steps, num_outputs])"
   ]
  },
  {
   "cell_type": "markdown",
   "metadata": {},
   "source": [
    "** Now create the RNN Layer, you have complete freedom over this, use tf.contrib.rnn and choose anything you want, OutputProjectionWrappers, BasicRNNCells, BasicLSTMCells, MultiRNNCell, GRUCell etc... Keep in mind not every combination will work well! (If in doubt, the solutions used an Outputprojection Wrapper around a basic LSTM cell with relu activation.**"
   ]
  },
  {
   "cell_type": "code",
   "execution_count": 21,
   "metadata": {},
   "outputs": [],
   "source": [
    "cell = tf.contrib.rnn.OutputProjectionWrapper(\n",
    "        tf.contrib.rnn.BasicLSTMCell(num_units=num_neurons, activation=tf.nn.relu),\n",
    "        output_size=num_outputs\n",
    "    )"
   ]
  },
  {
   "cell_type": "markdown",
   "metadata": {},
   "source": [
    "** Now pass in the cells variable into tf.nn.dynamic_rnn, along with your first placeholder (X)**"
   ]
  },
  {
   "cell_type": "code",
   "execution_count": 22,
   "metadata": {},
   "outputs": [],
   "source": [
    "outputs, states = tf.nn.dynamic_rnn(cell, X, dtype=tf.float32)"
   ]
  },
  {
   "cell_type": "markdown",
   "metadata": {},
   "source": [
    "### Loss Function and Optimizer\n",
    "\n",
    "** Create a Mean Squared Error Loss Function and use it to minimize an AdamOptimizer, remember to pass in your learning rate. **"
   ]
  },
  {
   "cell_type": "code",
   "execution_count": 23,
   "metadata": {},
   "outputs": [],
   "source": [
    "loss = tf.reduce_mean(tf.square(outputs - y))\n",
    "optimizer = tf.train.AdamOptimizer(learning_rate = learning_rate)\n",
    "train = optimizer.minimize(loss)"
   ]
  },
  {
   "cell_type": "markdown",
   "metadata": {},
   "source": [
    "** Initialize the global variables **"
   ]
  },
  {
   "cell_type": "code",
   "execution_count": 24,
   "metadata": {},
   "outputs": [],
   "source": [
    "init = tf.global_variables_initializer()"
   ]
  },
  {
   "cell_type": "markdown",
   "metadata": {},
   "source": [
    "** Create an instance of tf.train.Saver() **"
   ]
  },
  {
   "cell_type": "code",
   "execution_count": 25,
   "metadata": {},
   "outputs": [],
   "source": [
    "saver = tf.train.Saver()"
   ]
  },
  {
   "cell_type": "markdown",
   "metadata": {},
   "source": [
    "### Session\n",
    "\n",
    "** Run a tf.Session that trains on the batches created by your next_batch function. Also add an a loss evaluation for every 100 training iterations. Remember to save your model after you are done training. **"
   ]
  },
  {
   "cell_type": "code",
   "execution_count": 26,
   "metadata": {},
   "outputs": [],
   "source": [
    "gpu_options = tf.GPUOptions(per_process_gpu_memory_fraction=0.85)"
   ]
  },
  {
   "cell_type": "code",
   "execution_count": 27,
   "metadata": {},
   "outputs": [
    {
     "name": "stdout",
     "output_type": "stream",
     "text": [
      "0 \tMSE 0.245009\n",
      "100 \tMSE 0.0391631\n",
      "200 \tMSE 0.0797554\n",
      "300 \tMSE 0.0353743\n",
      "400 \tMSE 0.0545201\n",
      "500 \tMSE 0.0289\n",
      "600 \tMSE 0.025344\n",
      "700 \tMSE 0.0223979\n",
      "800 \tMSE 0.0262878\n",
      "900 \tMSE 0.0405018\n",
      "1000 \tMSE 0.0218802\n",
      "1100 \tMSE 0.0326503\n",
      "1200 \tMSE 0.0200142\n",
      "1300 \tMSE 0.0247831\n",
      "1400 \tMSE 0.0186031\n",
      "1500 \tMSE 0.0210265\n",
      "1600 \tMSE 0.0199596\n",
      "1700 \tMSE 0.0210669\n",
      "1800 \tMSE 0.0270711\n",
      "1900 \tMSE 0.0188164\n",
      "2000 \tMSE 0.0177918\n",
      "2100 \tMSE 0.0149044\n",
      "2200 \tMSE 0.0185543\n",
      "2300 \tMSE 0.0197569\n",
      "2400 \tMSE 0.0145001\n",
      "2500 \tMSE 0.0166175\n",
      "2600 \tMSE 0.0185131\n",
      "2700 \tMSE 0.0226874\n",
      "2800 \tMSE 0.0145175\n",
      "2900 \tMSE 0.0155597\n",
      "3000 \tMSE 0.0147872\n",
      "3100 \tMSE 0.0255863\n",
      "3200 \tMSE 0.0189631\n",
      "3300 \tMSE 0.0131703\n",
      "3400 \tMSE 0.0110317\n",
      "3500 \tMSE 0.0162286\n",
      "3600 \tMSE 0.0133712\n",
      "3700 \tMSE 0.0139235\n",
      "3800 \tMSE 0.0159483\n",
      "3900 \tMSE 0.0117256\n",
      "4000 \tMSE 0.0106002\n",
      "4100 \tMSE 0.00888266\n",
      "4200 \tMSE 0.00845186\n",
      "4300 \tMSE 0.00853456\n",
      "4400 \tMSE 0.0078223\n",
      "4500 \tMSE 0.0107921\n",
      "4600 \tMSE 0.0103826\n",
      "4700 \tMSE 0.0100599\n",
      "4800 \tMSE 0.0111763\n",
      "4900 \tMSE 0.0104287\n",
      "5000 \tMSE 0.00715433\n",
      "5100 \tMSE 0.00976944\n",
      "5200 \tMSE 0.00944768\n",
      "5300 \tMSE 0.00585596\n",
      "5400 \tMSE 0.00855181\n",
      "5500 \tMSE 0.0057718\n",
      "5600 \tMSE 0.00676626\n",
      "5700 \tMSE 0.0106347\n",
      "5800 \tMSE 0.00869885\n",
      "5900 \tMSE 0.00602455\n",
      "6000 \tMSE 0.00944076\n",
      "6100 \tMSE 0.00997981\n",
      "6200 \tMSE 0.00946692\n",
      "6300 \tMSE 0.00834425\n",
      "6400 \tMSE 0.00562585\n",
      "6500 \tMSE 0.00759538\n",
      "6600 \tMSE 0.00823162\n",
      "6700 \tMSE 0.00783542\n",
      "6800 \tMSE 0.0085815\n",
      "6900 \tMSE 0.00541556\n",
      "7000 \tMSE 0.0110311\n",
      "7100 \tMSE 0.00855286\n",
      "7200 \tMSE 0.00970497\n",
      "7300 \tMSE 0.00653741\n",
      "7400 \tMSE 0.00527925\n",
      "7500 \tMSE 0.00808922\n",
      "7600 \tMSE 0.00672202\n",
      "7700 \tMSE 0.00569363\n",
      "7800 \tMSE 0.00658348\n",
      "7900 \tMSE 0.00761389\n",
      "8000 \tMSE 0.00626926\n",
      "8100 \tMSE 0.00487531\n",
      "8200 \tMSE 0.00609073\n",
      "8300 \tMSE 0.00777661\n",
      "8400 \tMSE 0.00462505\n",
      "8500 \tMSE 0.00814348\n",
      "8600 \tMSE 0.00778145\n",
      "8700 \tMSE 0.00574046\n",
      "8800 \tMSE 0.00760426\n",
      "8900 \tMSE 0.00623033\n",
      "9000 \tMSE 0.00597533\n",
      "9100 \tMSE 0.00544713\n",
      "9200 \tMSE 0.0065712\n",
      "9300 \tMSE 0.00626401\n",
      "9400 \tMSE 0.00528551\n",
      "9500 \tMSE 0.00577342\n",
      "9600 \tMSE 0.00575309\n",
      "9700 \tMSE 0.00680554\n",
      "9800 \tMSE 0.00455317\n",
      "9900 \tMSE 0.00569026\n"
     ]
    }
   ],
   "source": [
    "with tf.Session() as sess:\n",
    "    # CODE HERE!\n",
    "    sess.run(init)\n",
    "    \n",
    "    for iteration in range(num_iterations):\n",
    "        X_batch, y_batch = next_batch(train_scaled,batch_size,num_time_steps)\n",
    "        sess.run(train, feed_dict={X: X_batch, y:y_batch})\n",
    "        \n",
    "        if iteration % 100 == 0:\n",
    "            mse = loss.eval(feed_dict={X: X_batch, y:y_batch})\n",
    "            print(iteration, \"\\tMSE\", mse)\n",
    "    \n",
    "    # Save Model for Later\n",
    "    saver.save(sess, \"./milk_time_series_model\")"
   ]
  },
  {
   "cell_type": "markdown",
   "metadata": {},
   "source": [
    "______"
   ]
  },
  {
   "cell_type": "markdown",
   "metadata": {},
   "source": [
    "## Predicting Future (Test Data)"
   ]
  },
  {
   "cell_type": "markdown",
   "metadata": {},
   "source": [
    "** Show the test_set (the last 12 months of your original complete data set) **"
   ]
  },
  {
   "cell_type": "code",
   "execution_count": 28,
   "metadata": {},
   "outputs": [
    {
     "data": {
      "text/html": [
       "<div>\n",
       "<style>\n",
       "    .dataframe thead tr:only-child th {\n",
       "        text-align: right;\n",
       "    }\n",
       "\n",
       "    .dataframe thead th {\n",
       "        text-align: left;\n",
       "    }\n",
       "\n",
       "    .dataframe tbody tr th {\n",
       "        vertical-align: top;\n",
       "    }\n",
       "</style>\n",
       "<table border=\"1\" class=\"dataframe\">\n",
       "  <thead>\n",
       "    <tr style=\"text-align: right;\">\n",
       "      <th></th>\n",
       "      <th>Milk Production</th>\n",
       "    </tr>\n",
       "    <tr>\n",
       "      <th>Month</th>\n",
       "      <th></th>\n",
       "    </tr>\n",
       "  </thead>\n",
       "  <tbody>\n",
       "    <tr>\n",
       "      <th>1974-01-01 01:00:00</th>\n",
       "      <td>828.0</td>\n",
       "    </tr>\n",
       "    <tr>\n",
       "      <th>1974-02-01 01:00:00</th>\n",
       "      <td>778.0</td>\n",
       "    </tr>\n",
       "    <tr>\n",
       "      <th>1974-03-01 01:00:00</th>\n",
       "      <td>889.0</td>\n",
       "    </tr>\n",
       "    <tr>\n",
       "      <th>1974-04-01 01:00:00</th>\n",
       "      <td>902.0</td>\n",
       "    </tr>\n",
       "    <tr>\n",
       "      <th>1974-05-01 01:00:00</th>\n",
       "      <td>969.0</td>\n",
       "    </tr>\n",
       "    <tr>\n",
       "      <th>1974-06-01 01:00:00</th>\n",
       "      <td>947.0</td>\n",
       "    </tr>\n",
       "    <tr>\n",
       "      <th>1974-07-01 01:00:00</th>\n",
       "      <td>908.0</td>\n",
       "    </tr>\n",
       "    <tr>\n",
       "      <th>1974-08-01 01:00:00</th>\n",
       "      <td>867.0</td>\n",
       "    </tr>\n",
       "    <tr>\n",
       "      <th>1974-09-01 01:00:00</th>\n",
       "      <td>815.0</td>\n",
       "    </tr>\n",
       "    <tr>\n",
       "      <th>1974-10-01 01:00:00</th>\n",
       "      <td>812.0</td>\n",
       "    </tr>\n",
       "    <tr>\n",
       "      <th>1974-11-01 01:00:00</th>\n",
       "      <td>773.0</td>\n",
       "    </tr>\n",
       "    <tr>\n",
       "      <th>1974-12-01 01:00:00</th>\n",
       "      <td>813.0</td>\n",
       "    </tr>\n",
       "    <tr>\n",
       "      <th>1975-01-01 01:00:00</th>\n",
       "      <td>834.0</td>\n",
       "    </tr>\n",
       "    <tr>\n",
       "      <th>1975-02-01 01:00:00</th>\n",
       "      <td>782.0</td>\n",
       "    </tr>\n",
       "    <tr>\n",
       "      <th>1975-03-01 01:00:00</th>\n",
       "      <td>892.0</td>\n",
       "    </tr>\n",
       "    <tr>\n",
       "      <th>1975-04-01 01:00:00</th>\n",
       "      <td>903.0</td>\n",
       "    </tr>\n",
       "    <tr>\n",
       "      <th>1975-05-01 01:00:00</th>\n",
       "      <td>966.0</td>\n",
       "    </tr>\n",
       "    <tr>\n",
       "      <th>1975-06-01 01:00:00</th>\n",
       "      <td>937.0</td>\n",
       "    </tr>\n",
       "    <tr>\n",
       "      <th>1975-07-01 01:00:00</th>\n",
       "      <td>896.0</td>\n",
       "    </tr>\n",
       "    <tr>\n",
       "      <th>1975-08-01 01:00:00</th>\n",
       "      <td>858.0</td>\n",
       "    </tr>\n",
       "    <tr>\n",
       "      <th>1975-09-01 01:00:00</th>\n",
       "      <td>817.0</td>\n",
       "    </tr>\n",
       "    <tr>\n",
       "      <th>1975-10-01 01:00:00</th>\n",
       "      <td>827.0</td>\n",
       "    </tr>\n",
       "    <tr>\n",
       "      <th>1975-11-01 01:00:00</th>\n",
       "      <td>797.0</td>\n",
       "    </tr>\n",
       "    <tr>\n",
       "      <th>1975-12-01 01:00:00</th>\n",
       "      <td>843.0</td>\n",
       "    </tr>\n",
       "  </tbody>\n",
       "</table>\n",
       "</div>"
      ],
      "text/plain": [
       "                     Milk Production\n",
       "Month                               \n",
       "1974-01-01 01:00:00            828.0\n",
       "1974-02-01 01:00:00            778.0\n",
       "1974-03-01 01:00:00            889.0\n",
       "1974-04-01 01:00:00            902.0\n",
       "1974-05-01 01:00:00            969.0\n",
       "1974-06-01 01:00:00            947.0\n",
       "1974-07-01 01:00:00            908.0\n",
       "1974-08-01 01:00:00            867.0\n",
       "1974-09-01 01:00:00            815.0\n",
       "1974-10-01 01:00:00            812.0\n",
       "1974-11-01 01:00:00            773.0\n",
       "1974-12-01 01:00:00            813.0\n",
       "1975-01-01 01:00:00            834.0\n",
       "1975-02-01 01:00:00            782.0\n",
       "1975-03-01 01:00:00            892.0\n",
       "1975-04-01 01:00:00            903.0\n",
       "1975-05-01 01:00:00            966.0\n",
       "1975-06-01 01:00:00            937.0\n",
       "1975-07-01 01:00:00            896.0\n",
       "1975-08-01 01:00:00            858.0\n",
       "1975-09-01 01:00:00            817.0\n",
       "1975-10-01 01:00:00            827.0\n",
       "1975-11-01 01:00:00            797.0\n",
       "1975-12-01 01:00:00            843.0"
      ]
     },
     "execution_count": 28,
     "metadata": {},
     "output_type": "execute_result"
    }
   ],
   "source": [
    "# CODE HERE\n",
    "test_set"
   ]
  },
  {
   "cell_type": "markdown",
   "metadata": {},
   "source": [
    "** Now we want to attempt to predict these 12 months of data, using only the training data we had. To do this we will feed in a seed training_instance of the last 12 months of the training_set of data to predict 12 months into the future. Then we will be able to compare our generated 12 months to our actual true historical values from the test set! **"
   ]
  },
  {
   "cell_type": "markdown",
   "metadata": {},
   "source": [
    "# Generative Session\n",
    "### NOTE: Recall that our model is really only trained to predict 1 time step ahead, asking it to generate 12 steps is a big ask, and technically not what it was trained to do! Think of this more as generating new values based off some previous pattern, rather than trying to directly predict the future. You would need to go back to the original model and train the model to predict 12 time steps ahead to really get a higher accuracy on the test data. (Which has its limits due to the smaller size of our data set)\n",
    "** Fill out the session code below to generate 12 months of data based off the last 12 months of data from the training set. The hardest part about this is adjusting the arrays with their shapes and sizes. Reference the lecture for hints.**"
   ]
  },
  {
   "cell_type": "code",
   "execution_count": 29,
   "metadata": {},
   "outputs": [
    {
     "name": "stdout",
     "output_type": "stream",
     "text": [
      "[array([ 0.48284314]), array([ 0.37745098]), array([ 0.62254902]), array([ 0.66421569]), array([ 0.81617647]), array([ 0.75]), array([ 0.65196078]), array([ 0.56372549]), array([ 0.45833333]), array([ 0.4754902]), array([ 0.3872549]), array([ 0.48529412]), array([ 0.61519608]), array([ 0.49754902]), array([ 0.75245098]), array([ 0.79656863]), array([ 0.95343137]), array([ 0.88235294]), array([ 0.7745098]), array([ 0.68872549]), array([ 0.58088235]), array([ 0.60539216]), array([ 0.51470588]), array([ 0.60539216]), array([ 0.66911765]), array([ 0.60294118]), array([ 0.82598039]), array([ 0.8504902]), array([ 1.]), array([ 0.93627451]), array([ 0.83578431]), array([ 0.74019608]), array([ 0.62745098]), array([ 0.62990196]), array([ 0.52205882]), array([ 0.61764706]), array([ 0.65686275]), array([ 0.53921569]), array([ 0.80882353]), array([ 0.84558824]), array([ 0.99019608]), array([ 0.90931373]), array([ 0.80392157]), array([ 0.69607843]), array([ 0.56617647]), array([ 0.58333333]), array([ 0.50735294]), array([ 0.61029412])]\n",
      "[[[ 0.48284314]\n",
      "  [ 0.37745098]\n",
      "  [ 0.62254902]\n",
      "  [ 0.66421569]\n",
      "  [ 0.81617647]\n",
      "  [ 0.75      ]\n",
      "  [ 0.65196078]\n",
      "  [ 0.56372549]\n",
      "  [ 0.45833333]\n",
      "  [ 0.4754902 ]\n",
      "  [ 0.3872549 ]\n",
      "  [ 0.48529412]\n",
      "  [ 0.61519608]\n",
      "  [ 0.49754902]\n",
      "  [ 0.75245098]\n",
      "  [ 0.79656863]\n",
      "  [ 0.95343137]\n",
      "  [ 0.88235294]\n",
      "  [ 0.7745098 ]\n",
      "  [ 0.68872549]\n",
      "  [ 0.58088235]\n",
      "  [ 0.60539216]\n",
      "  [ 0.51470588]\n",
      "  [ 0.60539216]\n",
      "  [ 0.66911765]\n",
      "  [ 0.60294118]\n",
      "  [ 0.82598039]\n",
      "  [ 0.8504902 ]\n",
      "  [ 1.        ]\n",
      "  [ 0.93627451]\n",
      "  [ 0.83578431]\n",
      "  [ 0.74019608]\n",
      "  [ 0.62745098]\n",
      "  [ 0.62990196]\n",
      "  [ 0.52205882]\n",
      "  [ 0.61764706]\n",
      "  [ 0.65686275]\n",
      "  [ 0.53921569]\n",
      "  [ 0.80882353]\n",
      "  [ 0.84558824]\n",
      "  [ 0.99019608]\n",
      "  [ 0.90931373]\n",
      "  [ 0.80392157]\n",
      "  [ 0.69607843]\n",
      "  [ 0.56617647]\n",
      "  [ 0.58333333]\n",
      "  [ 0.50735294]\n",
      "  [ 0.61029412]]]\n"
     ]
    }
   ],
   "source": [
    "train_seed = list(train_scaled[-num_time_steps:])\n",
    "print(train_seed)\n",
    "print(np.array(train_seed[-num_time_steps:]).reshape(1, num_time_steps,1))"
   ]
  },
  {
   "cell_type": "code",
   "execution_count": 30,
   "metadata": {},
   "outputs": [
    {
     "name": "stdout",
     "output_type": "stream",
     "text": [
      "INFO:tensorflow:Restoring parameters from ./milk_time_series_model\n"
     ]
    },
    {
     "ename": "ValueError",
     "evalue": "cannot reshape array of size 24 into shape (1,48,1)",
     "output_type": "error",
     "traceback": [
      "\u001b[1;31m---------------------------------------------------------------------------\u001b[0m",
      "\u001b[1;31mValueError\u001b[0m                                Traceback (most recent call last)",
      "\u001b[1;32m<ipython-input-30-263cda14a012>\u001b[0m in \u001b[0;36m<module>\u001b[1;34m()\u001b[0m\n\u001b[0;32m      8\u001b[0m \u001b[1;33m\u001b[0m\u001b[0m\n\u001b[0;32m      9\u001b[0m     \u001b[1;32mfor\u001b[0m \u001b[0miteration\u001b[0m \u001b[1;32min\u001b[0m \u001b[0mrange\u001b[0m\u001b[1;33m(\u001b[0m\u001b[1;36m24\u001b[0m\u001b[1;33m)\u001b[0m\u001b[1;33m:\u001b[0m\u001b[1;33m\u001b[0m\u001b[0m\n\u001b[1;32m---> 10\u001b[1;33m         \u001b[0mX_new\u001b[0m \u001b[1;33m=\u001b[0m \u001b[0mnp\u001b[0m\u001b[1;33m.\u001b[0m\u001b[0marray\u001b[0m\u001b[1;33m(\u001b[0m\u001b[0mtrain_seed\u001b[0m\u001b[1;33m[\u001b[0m\u001b[1;33m-\u001b[0m\u001b[0mnum_time_steps\u001b[0m\u001b[1;33m:\u001b[0m\u001b[1;33m]\u001b[0m\u001b[1;33m)\u001b[0m\u001b[1;33m.\u001b[0m\u001b[0mreshape\u001b[0m\u001b[1;33m(\u001b[0m\u001b[1;36m1\u001b[0m\u001b[1;33m,\u001b[0m \u001b[0mnum_time_steps\u001b[0m\u001b[1;33m,\u001b[0m\u001b[1;36m1\u001b[0m\u001b[1;33m)\u001b[0m\u001b[1;33m\u001b[0m\u001b[0m\n\u001b[0m\u001b[0;32m     11\u001b[0m         \u001b[0my_pred\u001b[0m \u001b[1;33m=\u001b[0m \u001b[0msess\u001b[0m\u001b[1;33m.\u001b[0m\u001b[0mrun\u001b[0m\u001b[1;33m(\u001b[0m\u001b[0moutputs\u001b[0m\u001b[1;33m,\u001b[0m \u001b[0mfeed_dict\u001b[0m\u001b[1;33m=\u001b[0m\u001b[1;33m{\u001b[0m\u001b[0mX\u001b[0m\u001b[1;33m:\u001b[0m \u001b[0mX_new\u001b[0m\u001b[1;33m}\u001b[0m\u001b[1;33m)\u001b[0m\u001b[1;33m\u001b[0m\u001b[0m\n\u001b[0;32m     12\u001b[0m         \u001b[0mtrain_seed\u001b[0m\u001b[1;33m.\u001b[0m\u001b[0mappend\u001b[0m\u001b[1;33m(\u001b[0m\u001b[0my_pred\u001b[0m\u001b[1;33m[\u001b[0m\u001b[1;36m0\u001b[0m\u001b[1;33m,\u001b[0m \u001b[1;33m-\u001b[0m\u001b[1;36m1\u001b[0m\u001b[1;33m,\u001b[0m \u001b[1;36m0\u001b[0m\u001b[1;33m]\u001b[0m\u001b[1;33m)\u001b[0m\u001b[1;33m\u001b[0m\u001b[0m\n",
      "\u001b[1;31mValueError\u001b[0m: cannot reshape array of size 24 into shape (1,48,1)"
     ]
    }
   ],
   "source": [
    "with tf.Session() as sess:\n",
    "    \n",
    "    # Use your Saver instance to restore your saved rnn time series model\n",
    "    saver.restore(sess, \"./milk_time_series_model\")\n",
    "\n",
    "    # CODE HERE!\n",
    "    train_seed = list(train_scaled[-24:])\n",
    "    \n",
    "    for iteration in range(24):\n",
    "        X_new = np.array(train_seed[-num_time_steps:]).reshape(1, num_time_steps,1)\n",
    "        y_pred = sess.run(outputs, feed_dict={X: X_new})\n",
    "        train_seed.append(y_pred[0, -1, 0])"
   ]
  },
  {
   "cell_type": "markdown",
   "metadata": {},
   "source": [
    "** Show the result of the predictions. **"
   ]
  },
  {
   "cell_type": "code",
   "execution_count": null,
   "metadata": {},
   "outputs": [],
   "source": [
    "np.array(train_seed[24:]).reshape(24,1)"
   ]
  },
  {
   "cell_type": "markdown",
   "metadata": {},
   "source": [
    "** Grab the portion of the results that are the generated values and apply inverse_transform on them to turn them back into milk production value units (lbs per cow). Also reshape the results to be (12,1) so we can easily add them to the test_set dataframe.**"
   ]
  },
  {
   "cell_type": "code",
   "execution_count": null,
   "metadata": {},
   "outputs": [],
   "source": [
    "result = scaler.inverse_transform(np.array(train_seed[48:]).reshape(48,1) )"
   ]
  },
  {
   "cell_type": "markdown",
   "metadata": {},
   "source": [
    "** Create a new column on the test_set called \"Generated\" and set it equal to the generated results. You may get a warning about this, feel free to ignore it.**"
   ]
  },
  {
   "cell_type": "code",
   "execution_count": null,
   "metadata": {},
   "outputs": [],
   "source": [
    "test_set['Generated'] = result"
   ]
  },
  {
   "cell_type": "markdown",
   "metadata": {},
   "source": [
    "** View the test_set dataframe. **"
   ]
  },
  {
   "cell_type": "code",
   "execution_count": null,
   "metadata": {},
   "outputs": [],
   "source": [
    "test_set"
   ]
  },
  {
   "cell_type": "markdown",
   "metadata": {},
   "source": [
    "** Plot out the two columns for comparison. **"
   ]
  },
  {
   "cell_type": "code",
   "execution_count": null,
   "metadata": {},
   "outputs": [],
   "source": [
    "test_set.plot()"
   ]
  },
  {
   "cell_type": "markdown",
   "metadata": {
    "collapsed": true
   },
   "source": [
    "# Great Job!\n",
    "\n",
    "Play around with the parameters and RNN layers, does a faster learning rate with more steps improve the model? What about GRU or BasicRNN units? What if you train the original model to not just predict one timestep ahead into the future, but 3 instead? Lots of stuff to add on here!"
   ]
  },
  {
   "cell_type": "code",
   "execution_count": null,
   "metadata": {},
   "outputs": [],
   "source": [
    "plt.plot(result)"
   ]
  },
  {
   "cell_type": "code",
   "execution_count": null,
   "metadata": {},
   "outputs": [],
   "source": []
  }
 ],
 "metadata": {
  "kernelspec": {
   "display_name": "Python 3",
   "language": "python",
   "name": "python3"
  },
  "language_info": {
   "codemirror_mode": {
    "name": "ipython",
    "version": 3
   },
   "file_extension": ".py",
   "mimetype": "text/x-python",
   "name": "python",
   "nbconvert_exporter": "python",
   "pygments_lexer": "ipython3",
   "version": "3.5.4"
  }
 },
 "nbformat": 4,
 "nbformat_minor": 2
}
